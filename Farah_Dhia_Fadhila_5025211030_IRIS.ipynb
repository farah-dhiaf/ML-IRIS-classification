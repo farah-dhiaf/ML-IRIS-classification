{
  "nbformat": 4,
  "nbformat_minor": 0,
  "metadata": {
    "colab": {
      "provenance": []
    },
    "kernelspec": {
      "name": "python3",
      "display_name": "Python 3"
    },
    "language_info": {
      "name": "python"
    }
  },
  "cells": [
    {
      "cell_type": "markdown",
      "source": [
        "Nama: Farah Dhia Fadhila</br>\n",
        "NRP: 5025211030</br>\n",
        "Kelas: Pembelajaran Mesin C"
      ],
      "metadata": {
        "id": "xExyqHW2-2Ym"
      }
    },
    {
      "cell_type": "code",
      "execution_count": 1,
      "metadata": {
        "id": "SW8xOrV0svy5",
        "colab": {
          "base_uri": "https://localhost:8080/"
        },
        "outputId": "d8638a9c-e07a-43a6-90cf-5a845b7c6684"
      },
      "outputs": [
        {
          "output_type": "stream",
          "name": "stdout",
          "text": [
            "Mounted at /content/drive\n"
          ]
        }
      ],
      "source": [
        "from google.colab import drive\n",
        "drive.mount('/content/drive')"
      ]
    },
    {
      "cell_type": "code",
      "source": [
        "import pandas as pd\n",
        "import numpy as np\n",
        "\n",
        "data_train = pd.read_csv('./drive/MyDrive/ML/IRIS_Train.csv')\n",
        "data_test = pd.read_csv('./drive/MyDrive/ML/IRIS_Test.csv')"
      ],
      "metadata": {
        "id": "FwahQlEhtXWT"
      },
      "execution_count": 2,
      "outputs": []
    },
    {
      "cell_type": "code",
      "source": [
        "print(data_train)\n",
        "print(data_test)"
      ],
      "metadata": {
        "colab": {
          "base_uri": "https://localhost:8080/"
        },
        "id": "3BsRgyxjuFYq",
        "outputId": "a296d61c-b034-4870-9852-e96b6761830d"
      },
      "execution_count": 3,
      "outputs": [
        {
          "output_type": "stream",
          "name": "stdout",
          "text": [
            "     sepal_length  sepal_width  petal_length  petal_width         species\n",
            "0             5.1          3.5           1.4          0.2     Iris-setosa\n",
            "1             4.9          3.0           1.4          0.2     Iris-setosa\n",
            "2             4.7          3.2           1.3          0.2     Iris-setosa\n",
            "3             4.6          3.1           1.5          0.2     Iris-setosa\n",
            "4             5.4          3.9           1.7          0.4     Iris-setosa\n",
            "..            ...          ...           ...          ...             ...\n",
            "115           6.8          3.2           5.9          2.3  Iris-virginica\n",
            "116           6.7          3.0           5.2          2.3  Iris-virginica\n",
            "117           6.3          2.5           5.0          1.9  Iris-virginica\n",
            "118           6.5          3.0           5.2          2.0  Iris-virginica\n",
            "119           6.2          3.4           5.4          2.3  Iris-virginica\n",
            "\n",
            "[120 rows x 5 columns]\n",
            "    sepal_length  sepal_width  petal_length  petal_width          species\n",
            "0            5.0          3.6           1.4          0.2      Iris-setosa\n",
            "1            4.9          3.1           1.5          0.1      Iris-setosa\n",
            "2            5.8          4.0           1.2          0.2      Iris-setosa\n",
            "3            5.1          3.8           1.5          0.3      Iris-setosa\n",
            "4            4.8          3.4           1.9          0.2      Iris-setosa\n",
            "5            4.7          3.2           1.6          0.2      Iris-setosa\n",
            "6            4.9          3.1           1.5          0.1      Iris-setosa\n",
            "7            5.1          3.4           1.5          0.2      Iris-setosa\n",
            "8            5.1          3.8           1.9          0.4      Iris-setosa\n",
            "9            5.0          3.3           1.4          0.2      Iris-setosa\n",
            "10           6.5          2.8           4.6          1.5  Iris-versicolor\n",
            "11           5.2          2.7           3.9          1.4  Iris-versicolor\n",
            "12           5.6          2.9           3.6          1.3  Iris-versicolor\n",
            "13           5.6          2.5           3.9          1.1  Iris-versicolor\n",
            "14           6.4          2.9           4.3          1.3  Iris-versicolor\n",
            "15           5.7          2.6           3.5          1.0  Iris-versicolor\n",
            "16           5.4          3.0           4.5          1.5  Iris-versicolor\n",
            "17           5.5          2.5           4.0          1.3  Iris-versicolor\n",
            "18           5.6          2.7           4.2          1.3  Iris-versicolor\n",
            "19           5.7          2.8           4.1          1.3  Iris-versicolor\n",
            "20           6.5          3.0           5.8          2.2   Iris-virginica\n",
            "21           7.2          3.6           6.1          2.5   Iris-virginica\n",
            "22           5.8          2.8           5.1          2.4   Iris-virginica\n",
            "23           6.0          2.2           5.0          1.5   Iris-virginica\n",
            "24           6.7          3.3           5.7          2.1   Iris-virginica\n",
            "25           7.2          3.0           5.8          1.6   Iris-virginica\n",
            "26           6.1          2.6           5.6          1.4   Iris-virginica\n",
            "27           6.9          3.1           5.4          2.1   Iris-virginica\n",
            "28           6.7          3.3           5.7          2.5   Iris-virginica\n",
            "29           5.9          3.0           5.1          1.8   Iris-virginica\n"
          ]
        }
      ]
    },
    {
      "cell_type": "code",
      "source": [
        "print(f\"data train: \\n{data_train.describe()}\\n\")\n",
        "print(f\"data test: \\n{data_test.describe()}\")"
      ],
      "metadata": {
        "colab": {
          "base_uri": "https://localhost:8080/"
        },
        "id": "_SBJI1N5uIVe",
        "outputId": "ba5664bb-228e-4503-cf17-1c54c7260c58"
      },
      "execution_count": 4,
      "outputs": [
        {
          "output_type": "stream",
          "name": "stdout",
          "text": [
            "data train: \n",
            "       sepal_length  sepal_width  petal_length  petal_width\n",
            "count    120.000000   120.000000    120.000000   120.000000\n",
            "mean       5.865833     3.050833      3.770833     1.205000\n",
            "std        0.851938     0.436756      1.785958     0.758686\n",
            "min        4.300000     2.000000      1.000000     0.100000\n",
            "25%        5.100000     2.800000      1.575000     0.300000\n",
            "50%        5.800000     3.000000      4.400000     1.300000\n",
            "75%        6.400000     3.300000      5.100000     1.800000\n",
            "max        7.900000     4.400000      6.900000     2.500000\n",
            "\n",
            "data test: \n",
            "       sepal_length  sepal_width  petal_length  petal_width\n",
            "count     30.000000    30.000000     30.000000    30.000000\n",
            "mean       5.753333     3.066667      3.710000     1.173333\n",
            "std        0.730957     0.427772      1.704022     0.793479\n",
            "min        4.700000     2.200000      1.200000     0.100000\n",
            "25%        5.100000     2.800000      1.675000     0.225000\n",
            "50%        5.650000     3.000000      4.050000     1.300000\n",
            "75%        6.325000     3.300000      5.100000     1.575000\n",
            "max        7.200000     4.000000      6.100000     2.500000\n"
          ]
        }
      ]
    },
    {
      "cell_type": "code",
      "source": [
        "print(f\"data train:\\n{data_train.isna().sum()}\\n\")\n",
        "print(f\"data test:\\n{data_test.isna().sum()}\")"
      ],
      "metadata": {
        "colab": {
          "base_uri": "https://localhost:8080/"
        },
        "id": "UKu178de8gCR",
        "outputId": "ff5587fd-aa78-43f5-ec5c-17ca25034b87"
      },
      "execution_count": 5,
      "outputs": [
        {
          "output_type": "stream",
          "name": "stdout",
          "text": [
            "data train:\n",
            "sepal_length    0\n",
            "sepal_width     0\n",
            "petal_length    0\n",
            "petal_width     0\n",
            "species         0\n",
            "dtype: int64\n",
            "\n",
            "data test:\n",
            "sepal_length    0\n",
            "sepal_width     0\n",
            "petal_length    0\n",
            "petal_width     0\n",
            "species         0\n",
            "dtype: int64\n"
          ]
        }
      ]
    },
    {
      "cell_type": "code",
      "source": [
        "print(f\"data train:\\n{data_train['species'].unique()}\\n\")\n",
        "print(f\"data test:\\n{data_test['species'].unique()}\")"
      ],
      "metadata": {
        "colab": {
          "base_uri": "https://localhost:8080/"
        },
        "id": "onWSM5479dTf",
        "outputId": "aebb5d75-6b37-477b-963a-f1b383255950"
      },
      "execution_count": 6,
      "outputs": [
        {
          "output_type": "stream",
          "name": "stdout",
          "text": [
            "data train:\n",
            "['Iris-setosa' 'Iris-versicolor' 'Iris-virginica']\n",
            "\n",
            "data test:\n",
            "['Iris-setosa' 'Iris-versicolor' 'Iris-virginica']\n"
          ]
        }
      ]
    },
    {
      "cell_type": "code",
      "source": [
        "from sklearn.preprocessing import LabelEncoder\n",
        "\n",
        "label_encoder = LabelEncoder()\n",
        "data_train['species'] = label_encoder.fit_transform(data_train['species'])\n",
        "data_test['species'] = label_encoder.fit_transform(data_test['species'])\n",
        "\n",
        "print(data_train['species'])\n",
        "print(data_test['species'])\n"
      ],
      "metadata": {
        "id": "EEmNqQNlvNX7",
        "colab": {
          "base_uri": "https://localhost:8080/"
        },
        "outputId": "fb02ffee-a12e-4fe7-c501-4eed857b08b1"
      },
      "execution_count": 7,
      "outputs": [
        {
          "output_type": "stream",
          "name": "stdout",
          "text": [
            "0      0\n",
            "1      0\n",
            "2      0\n",
            "3      0\n",
            "4      0\n",
            "      ..\n",
            "115    2\n",
            "116    2\n",
            "117    2\n",
            "118    2\n",
            "119    2\n",
            "Name: species, Length: 120, dtype: int64\n",
            "0     0\n",
            "1     0\n",
            "2     0\n",
            "3     0\n",
            "4     0\n",
            "5     0\n",
            "6     0\n",
            "7     0\n",
            "8     0\n",
            "9     0\n",
            "10    1\n",
            "11    1\n",
            "12    1\n",
            "13    1\n",
            "14    1\n",
            "15    1\n",
            "16    1\n",
            "17    1\n",
            "18    1\n",
            "19    1\n",
            "20    2\n",
            "21    2\n",
            "22    2\n",
            "23    2\n",
            "24    2\n",
            "25    2\n",
            "26    2\n",
            "27    2\n",
            "28    2\n",
            "29    2\n",
            "Name: species, dtype: int64\n"
          ]
        }
      ]
    },
    {
      "cell_type": "code",
      "source": [
        "print(f\"data train:\\n{data_train['species'].unique()}\\n\")\n",
        "print(f\"data test:\\n{data_test['species'].unique()}\")"
      ],
      "metadata": {
        "colab": {
          "base_uri": "https://localhost:8080/"
        },
        "id": "aAzUL6c_-aHx",
        "outputId": "5b4d9a6e-59ae-430c-888a-79b1b99989b1"
      },
      "execution_count": 8,
      "outputs": [
        {
          "output_type": "stream",
          "name": "stdout",
          "text": [
            "data train:\n",
            "[0 1 2]\n",
            "\n",
            "data test:\n",
            "[0 1 2]\n"
          ]
        }
      ]
    },
    {
      "cell_type": "code",
      "source": [
        "X_train = data_train.iloc[:, :-1]\n",
        "y_train = data_train.iloc[:, -1]\n",
        "\n",
        "X_test = data_test.iloc[:, :-1]\n",
        "y_test = data_test.iloc[:, -1]\n",
        "\n",
        "print(y_train)"
      ],
      "metadata": {
        "colab": {
          "base_uri": "https://localhost:8080/"
        },
        "id": "Xk4AuO38uNob",
        "outputId": "9c056ed7-8f8b-4378-9f5c-503132903e49"
      },
      "execution_count": 9,
      "outputs": [
        {
          "output_type": "stream",
          "name": "stdout",
          "text": [
            "0      0\n",
            "1      0\n",
            "2      0\n",
            "3      0\n",
            "4      0\n",
            "      ..\n",
            "115    2\n",
            "116    2\n",
            "117    2\n",
            "118    2\n",
            "119    2\n",
            "Name: species, Length: 120, dtype: int64\n"
          ]
        }
      ]
    },
    {
      "cell_type": "code",
      "source": [
        "import matplotlib.pyplot as plt\n",
        "import seaborn as sns\n",
        "\n",
        "dataplot = sns.heatmap(data_train.corr(), cmap=\"YlGnBu\", annot=True)\n",
        "plt.show()"
      ],
      "metadata": {
        "colab": {
          "base_uri": "https://localhost:8080/",
          "height": 510
        },
        "id": "kIsEJX-DuZsl",
        "outputId": "dd78f0bc-b597-4e0b-dd77-93753f12024e"
      },
      "execution_count": 10,
      "outputs": [
        {
          "output_type": "display_data",
          "data": {
            "text/plain": [
              "<Figure size 640x480 with 2 Axes>"
            ],
            "image/png": "[encoded data removed]"
          },
          "metadata": {}
        }
      ]
    },
    {
      "cell_type": "code",
      "source": [
        "import matplotlib.pyplot as plt\n",
        "import seaborn as sns\n",
        "f, ax = plt.subplots(figsize=(10, 10))\n",
        "sns.countplot(x='species',data=data_train)"
      ],
      "metadata": {
        "colab": {
          "base_uri": "https://localhost:8080/",
          "height": 868
        },
        "id": "w0-eIfG8v3fr",
        "outputId": "4e9abb1f-cba1-4016-a94a-610275e46511"
      },
      "execution_count": 11,
      "outputs": [
        {
          "output_type": "execute_result",
          "data": {
            "text/plain": [
              "<Axes: xlabel='species', ylabel='count'>"
            ]
          },
          "metadata": {},
          "execution_count": 11
        },
        {
          "output_type": "display_data",
          "data": {
            "text/plain": [
              "<Figure size 1000x1000 with 1 Axes>"
            ],
            "image/png": "[encoded data removed]"
          },
          "metadata": {}
        }
      ]
    },
    {
      "cell_type": "code",
      "source": [
        "f, ax = plt.subplots(figsize=(10, 10))\n",
        "sns.countplot(x='species',data=data_test)"
      ],
      "metadata": {
        "colab": {
          "base_uri": "https://localhost:8080/",
          "height": 868
        },
        "id": "JlbsGMlA5XXW",
        "outputId": "fd10be3b-98ae-4997-f64a-27a3caf92278"
      },
      "execution_count": 12,
      "outputs": [
        {
          "output_type": "execute_result",
          "data": {
            "text/plain": [
              "<Axes: xlabel='species', ylabel='count'>"
            ]
          },
          "metadata": {},
          "execution_count": 12
        },
        {
          "output_type": "display_data",
          "data": {
            "text/plain": [
              "<Figure size 1000x1000 with 1 Axes>"
            ],
            "image/png": "[encoded data removed]"
          },
          "metadata": {}
        }
      ]
    },
    {
      "cell_type": "markdown",
      "source": [
        "# Skenario 1 (Tanpa normalisasi data)"
      ],
      "metadata": {
        "id": "HbiwCoi_5vxQ"
      }
    },
    {
      "cell_type": "code",
      "source": [
        "from sklearn.metrics import accuracy_score, confusion_matrix, classification_report, precision_score, recall_score, f1_score\n",
        "from imblearn.metrics import specificity_score"
      ],
      "metadata": {
        "id": "ar9pUZuh6ojV"
      },
      "execution_count": 13,
      "outputs": []
    },
    {
      "cell_type": "code",
      "source": [
        "# @title Decision Tree criterion=gini\n",
        "from sklearn.tree import DecisionTreeClassifier\n",
        "\n",
        "dtc = DecisionTreeClassifier(criterion='gini')\n",
        "dtc.fit(X_train, y_train)\n",
        "\n",
        "y_pred = dtc.predict(X_test)\n",
        "\n",
        "dtc_train_acc = accuracy_score(y_train, dtc.predict(X_train))\n",
        "dtc_test_acc = accuracy_score(y_test, y_pred)\n",
        "\n",
        "print(f\"Training accuracy of Decision Tree is : {dtc_train_acc}\")\n",
        "print(f\"Test accuracy of Decision Tree is : {dtc_test_acc}\")\n",
        "\n",
        "print(confusion_matrix(y_test, y_pred))\n",
        "print(classification_report(y_test, y_pred))\n",
        "\n",
        "print(f\"Recall: {recall_score(y_test, y_pred, average='macro')}\")\n",
        "print(f\"Specificity: {specificity_score(y_test, y_pred, average='macro')}\")\n",
        "print(f\"Precision: {precision_score(y_test, y_pred, average='macro')}\")\n",
        "print(f\"F-Measure: {f1_score(y_test, y_pred, average='macro')}\")"
      ],
      "metadata": {
        "colab": {
          "base_uri": "https://localhost:8080/"
        },
        "id": "OciX2NB74hOb",
        "outputId": "41a70210-9a3e-4892-9b5f-5147458f6082"
      },
      "execution_count": 14,
      "outputs": [
        {
          "output_type": "stream",
          "name": "stdout",
          "text": [
            "Training accuracy of Decision Tree is : 1.0\n",
            "Test accuracy of Decision Tree is : 0.9333333333333333\n",
            "[[10  0  0]\n",
            " [ 0 10  0]\n",
            " [ 0  2  8]]\n",
            "              precision    recall  f1-score   support\n",
            "\n",
            "           0       1.00      1.00      1.00        10\n",
            "           1       0.83      1.00      0.91        10\n",
            "           2       1.00      0.80      0.89        10\n",
            "\n",
            "    accuracy                           0.93        30\n",
            "   macro avg       0.94      0.93      0.93        30\n",
            "weighted avg       0.94      0.93      0.93        30\n",
            "\n",
            "Recall: 0.9333333333333332\n",
            "Specificity: 0.9666666666666667\n",
            "Precision: 0.9444444444444445\n",
            "F-Measure: 0.9326599326599326\n"
          ]
        }
      ]
    },
    {
      "cell_type": "code",
      "source": [
        "# @title Decision Tree criterion=entropy\n",
        "from sklearn.tree import DecisionTreeClassifier\n",
        "\n",
        "dtc = DecisionTreeClassifier(criterion='entropy')\n",
        "dtc.fit(X_train, y_train)\n",
        "\n",
        "y_pred = dtc.predict(X_test)\n",
        "\n",
        "dtc_train_acc = accuracy_score(y_train, dtc.predict(X_train))\n",
        "dtc_test_acc = accuracy_score(y_test, y_pred)\n",
        "\n",
        "print(f\"Training accuracy of Decision Tree is : {dtc_train_acc}\")\n",
        "print(f\"Test accuracy of Decision Tree is : {dtc_test_acc}\")\n",
        "\n",
        "print(confusion_matrix(y_test, y_pred))\n",
        "print(classification_report(y_test, y_pred))\n",
        "\n",
        "print(f\"Recall: {recall_score(y_test, y_pred, average='macro')}\")\n",
        "print(f\"Specificity: {specificity_score(y_test, y_pred, average='macro')}\")\n",
        "print(f\"Precision: {precision_score(y_test, y_pred, average='macro')}\")\n",
        "print(f\"F-Measure: {f1_score(y_test, y_pred, average='macro')}\")"
      ],
      "metadata": {
        "id": "JEcLPYdc8qhz",
        "colab": {
          "base_uri": "https://localhost:8080/"
        },
        "outputId": "07b2fd5a-8b80-406c-ba75-ab9b4d67172c"
      },
      "execution_count": 15,
      "outputs": [
        {
          "output_type": "stream",
          "name": "stdout",
          "text": [
            "Training accuracy of Decision Tree is : 1.0\n",
            "Test accuracy of Decision Tree is : 0.9333333333333333\n",
            "[[10  0  0]\n",
            " [ 0 10  0]\n",
            " [ 0  2  8]]\n",
            "              precision    recall  f1-score   support\n",
            "\n",
            "           0       1.00      1.00      1.00        10\n",
            "           1       0.83      1.00      0.91        10\n",
            "           2       1.00      0.80      0.89        10\n",
            "\n",
            "    accuracy                           0.93        30\n",
            "   macro avg       0.94      0.93      0.93        30\n",
            "weighted avg       0.94      0.93      0.93        30\n",
            "\n",
            "Recall: 0.9333333333333332\n",
            "Specificity: 0.9666666666666667\n",
            "Precision: 0.9444444444444445\n",
            "F-Measure: 0.9326599326599326\n"
          ]
        }
      ]
    },
    {
      "cell_type": "code",
      "source": [
        "# @title KNN k=3\n",
        "from sklearn.neighbors import KNeighborsClassifier\n",
        "\n",
        "\n",
        "neigh = KNeighborsClassifier(n_neighbors=3)\n",
        "neigh.fit(X_train, y_train)\n",
        "\n",
        "y_pred = neigh.predict(X_test)\n",
        "\n",
        "neigh_train_acc = accuracy_score(y_train, neigh.predict(X_train))\n",
        "neigh_test_acc = accuracy_score(y_test, y_pred)\n",
        "\n",
        "print(f\"Training accuracy of KNN is : {neigh_train_acc}\")\n",
        "print(f\"Test accuracy of KNN is : {neigh_test_acc}\")\n",
        "\n",
        "print(confusion_matrix(y_test, y_pred))\n",
        "print(classification_report(y_test, y_pred))\n",
        "\n",
        "print(f\"Recall: {recall_score(y_test, y_pred, average='macro')}\")\n",
        "print(f\"Specificity: {specificity_score(y_test, y_pred, average='macro')}\")\n",
        "print(f\"Precision: {precision_score(y_test, y_pred, average='macro')}\")\n",
        "print(f\"F-Measure: {f1_score(y_test, y_pred, average='macro')}\")"
      ],
      "metadata": {
        "id": "m26X247N5-kp",
        "colab": {
          "base_uri": "https://localhost:8080/"
        },
        "outputId": "5b41b934-619e-4b65-e6a9-91ac710f3d12"
      },
      "execution_count": 16,
      "outputs": [
        {
          "output_type": "stream",
          "name": "stdout",
          "text": [
            "Training accuracy of KNN is : 0.9583333333333334\n",
            "Test accuracy of KNN is : 0.9666666666666667\n",
            "[[10  0  0]\n",
            " [ 0 10  0]\n",
            " [ 0  1  9]]\n",
            "              precision    recall  f1-score   support\n",
            "\n",
            "           0       1.00      1.00      1.00        10\n",
            "           1       0.91      1.00      0.95        10\n",
            "           2       1.00      0.90      0.95        10\n",
            "\n",
            "    accuracy                           0.97        30\n",
            "   macro avg       0.97      0.97      0.97        30\n",
            "weighted avg       0.97      0.97      0.97        30\n",
            "\n",
            "Recall: 0.9666666666666667\n",
            "Specificity: 0.9833333333333334\n",
            "Precision: 0.9696969696969697\n",
            "F-Measure: 0.9665831244778613\n"
          ]
        }
      ]
    },
    {
      "cell_type": "code",
      "source": [
        "# @title KNN k=5\n",
        "from sklearn.neighbors import KNeighborsClassifier\n",
        "\n",
        "\n",
        "neigh = KNeighborsClassifier(n_neighbors=5)\n",
        "neigh.fit(X_train, y_train)\n",
        "\n",
        "y_pred = neigh.predict(X_test)\n",
        "\n",
        "neigh_train_acc = accuracy_score(y_train, neigh.predict(X_train))\n",
        "neigh_test_acc = accuracy_score(y_test, y_pred)\n",
        "\n",
        "print(f\"Training accuracy of KNN is : {neigh_train_acc}\")\n",
        "print(f\"Test accuracy of KNN is : {neigh_test_acc}\")\n",
        "\n",
        "print(confusion_matrix(y_test, y_pred))\n",
        "print(classification_report(y_test, y_pred))\n",
        "\n",
        "print(f\"Recall: {recall_score(y_test, y_pred, average='macro')}\")\n",
        "print(f\"Specificity: {specificity_score(y_test, y_pred, average='macro')}\")\n",
        "print(f\"Precision: {precision_score(y_test, y_pred, average='macro')}\")\n",
        "print(f\"F-Measure: {f1_score(y_test, y_pred, average='macro')}\")"
      ],
      "metadata": {
        "id": "HgS7VCcF8HxO",
        "colab": {
          "base_uri": "https://localhost:8080/"
        },
        "outputId": "9aa299e2-76e8-4cad-98e5-1cbe7fcb4edd"
      },
      "execution_count": 17,
      "outputs": [
        {
          "output_type": "stream",
          "name": "stdout",
          "text": [
            "Training accuracy of KNN is : 0.975\n",
            "Test accuracy of KNN is : 0.9666666666666667\n",
            "[[10  0  0]\n",
            " [ 0 10  0]\n",
            " [ 0  1  9]]\n",
            "              precision    recall  f1-score   support\n",
            "\n",
            "           0       1.00      1.00      1.00        10\n",
            "           1       0.91      1.00      0.95        10\n",
            "           2       1.00      0.90      0.95        10\n",
            "\n",
            "    accuracy                           0.97        30\n",
            "   macro avg       0.97      0.97      0.97        30\n",
            "weighted avg       0.97      0.97      0.97        30\n",
            "\n",
            "Recall: 0.9666666666666667\n",
            "Specificity: 0.9833333333333334\n",
            "Precision: 0.9696969696969697\n",
            "F-Measure: 0.9665831244778613\n"
          ]
        }
      ]
    },
    {
      "cell_type": "code",
      "source": [
        "# @title KNN k=7\n",
        "from sklearn.neighbors import KNeighborsClassifier\n",
        "\n",
        "\n",
        "neigh = KNeighborsClassifier(n_neighbors=7)\n",
        "neigh.fit(X_train, y_train)\n",
        "\n",
        "y_pred = neigh.predict(X_test)\n",
        "\n",
        "neigh_train_acc = accuracy_score(y_train, neigh.predict(X_train))\n",
        "neigh_test_acc = accuracy_score(y_test, y_pred)\n",
        "\n",
        "print(f\"Training accuracy of KNN is : {neigh_train_acc}\")\n",
        "print(f\"Test accuracy of KNN is : {neigh_test_acc}\")\n",
        "\n",
        "print(confusion_matrix(y_test, y_pred))\n",
        "print(classification_report(y_test, y_pred))\n",
        "\n",
        "print(f\"Recall: {recall_score(y_test, y_pred, average='macro')}\")\n",
        "print(f\"Specificity: {specificity_score(y_test, y_pred, average='macro')}\")\n",
        "print(f\"Precision: {precision_score(y_test, y_pred, average='macro')}\")\n",
        "print(f\"F-Measure: {f1_score(y_test, y_pred, average='macro')}\")"
      ],
      "metadata": {
        "id": "bvyEZWnA8KfO",
        "colab": {
          "base_uri": "https://localhost:8080/"
        },
        "outputId": "c15003fd-67d0-44de-d2ab-7f0ffb5c553e"
      },
      "execution_count": 18,
      "outputs": [
        {
          "output_type": "stream",
          "name": "stdout",
          "text": [
            "Training accuracy of KNN is : 0.975\n",
            "Test accuracy of KNN is : 1.0\n",
            "[[10  0  0]\n",
            " [ 0 10  0]\n",
            " [ 0  0 10]]\n",
            "              precision    recall  f1-score   support\n",
            "\n",
            "           0       1.00      1.00      1.00        10\n",
            "           1       1.00      1.00      1.00        10\n",
            "           2       1.00      1.00      1.00        10\n",
            "\n",
            "    accuracy                           1.00        30\n",
            "   macro avg       1.00      1.00      1.00        30\n",
            "weighted avg       1.00      1.00      1.00        30\n",
            "\n",
            "Recall: 1.0\n",
            "Specificity: 1.0\n",
            "Precision: 1.0\n",
            "F-Measure: 1.0\n"
          ]
        }
      ]
    },
    {
      "cell_type": "code",
      "source": [
        "# @title Naive Bayes\n",
        "\n",
        "from sklearn.naive_bayes import GaussianNB\n",
        "\n",
        "nb = GaussianNB()\n",
        "nb.fit(X_train, y_train)\n",
        "\n",
        "y_pred = nb.predict(X_test)\n",
        "\n",
        "nb_train_acc = accuracy_score(y_train, nb.predict(X_train))\n",
        "nb_test_acc = accuracy_score(y_test, y_pred)\n",
        "\n",
        "print(f\"Training accuracy of Naive Bayes is : {nb_train_acc}\")\n",
        "print(f\"Test accuracy of Naive Bayes is : {nb_test_acc}\")\n",
        "\n",
        "print(confusion_matrix(y_test, y_pred))\n",
        "print(classification_report(y_test, y_pred))\n",
        "\n",
        "print(f\"Recall: {recall_score(y_test, y_pred, average='macro')}\")\n",
        "print(f\"Specificity: {specificity_score(y_test, y_pred, average='macro')}\")\n",
        "print(f\"Precision: {precision_score(y_test, y_pred, average='macro')}\")\n",
        "print(f\"F-Measure: {f1_score(y_test, y_pred, average='macro')}\")"
      ],
      "metadata": {
        "id": "IseqHGHT82DN",
        "colab": {
          "base_uri": "https://localhost:8080/"
        },
        "outputId": "c76ff935-b5b9-442f-edab-cd05b925b11e"
      },
      "execution_count": 19,
      "outputs": [
        {
          "output_type": "stream",
          "name": "stdout",
          "text": [
            "Training accuracy of Naive Bayes is : 0.9666666666666667\n",
            "Test accuracy of Naive Bayes is : 0.9333333333333333\n",
            "[[10  0  0]\n",
            " [ 0 10  0]\n",
            " [ 0  2  8]]\n",
            "              precision    recall  f1-score   support\n",
            "\n",
            "           0       1.00      1.00      1.00        10\n",
            "           1       0.83      1.00      0.91        10\n",
            "           2       1.00      0.80      0.89        10\n",
            "\n",
            "    accuracy                           0.93        30\n",
            "   macro avg       0.94      0.93      0.93        30\n",
            "weighted avg       0.94      0.93      0.93        30\n",
            "\n",
            "Recall: 0.9333333333333332\n",
            "Specificity: 0.9666666666666667\n",
            "Precision: 0.9444444444444445\n",
            "F-Measure: 0.9326599326599326\n"
          ]
        }
      ]
    },
    {
      "cell_type": "code",
      "source": [
        "# @title SVM kernel=linear\n",
        "\n",
        "from sklearn import svm\n",
        "\n",
        "svm_model = svm.SVC(kernel='linear')\n",
        "svm_model.fit(X_train, y_train)\n",
        "\n",
        "y_pred = svm_model.predict(X_test)\n",
        "\n",
        "svm_train_acc = accuracy_score(y_train, svm_model.predict(X_train))\n",
        "svm_test_acc = accuracy_score(y_test, y_pred)\n",
        "\n",
        "print(f\"Training accuracy of SVM is : {svm_train_acc}\")\n",
        "print(f\"Test accuracy of SVM is : {svm_test_acc}\")\n",
        "\n",
        "print(confusion_matrix(y_test, y_pred))\n",
        "print(classification_report(y_test, y_pred))\n",
        "\n",
        "print(f\"Recall: {recall_score(y_test, y_pred, average='macro')}\")\n",
        "print(f\"Specificity: {specificity_score(y_test, y_pred, average='macro')}\")\n",
        "print(f\"Precision: {precision_score(y_test, y_pred, average='macro')}\")\n",
        "print(f\"F-Measure: {f1_score(y_test, y_pred, average='macro')}\")"
      ],
      "metadata": {
        "id": "Cx48ffUW9B08",
        "colab": {
          "base_uri": "https://localhost:8080/"
        },
        "outputId": "6a2fa272-8fd7-4639-e9ff-164dc78ddf0c"
      },
      "execution_count": 20,
      "outputs": [
        {
          "output_type": "stream",
          "name": "stdout",
          "text": [
            "Training accuracy of SVM is : 0.975\n",
            "Test accuracy of SVM is : 1.0\n",
            "[[10  0  0]\n",
            " [ 0 10  0]\n",
            " [ 0  0 10]]\n",
            "              precision    recall  f1-score   support\n",
            "\n",
            "           0       1.00      1.00      1.00        10\n",
            "           1       1.00      1.00      1.00        10\n",
            "           2       1.00      1.00      1.00        10\n",
            "\n",
            "    accuracy                           1.00        30\n",
            "   macro avg       1.00      1.00      1.00        30\n",
            "weighted avg       1.00      1.00      1.00        30\n",
            "\n",
            "Recall: 1.0\n",
            "Specificity: 1.0\n",
            "Precision: 1.0\n",
            "F-Measure: 1.0\n"
          ]
        }
      ]
    },
    {
      "cell_type": "code",
      "source": [
        "# @title SVM kernel=polynomial\n",
        "\n",
        "from sklearn import svm\n",
        "\n",
        "svm_model = svm.SVC(kernel='poly')\n",
        "svm_model.fit(X_train, y_train)\n",
        "\n",
        "y_pred = svm_model.predict(X_test)\n",
        "\n",
        "svm_train_acc = accuracy_score(y_train, svm_model.predict(X_train))\n",
        "svm_test_acc = accuracy_score(y_test, y_pred)\n",
        "\n",
        "print(f\"Training accuracy of SVM is : {svm_train_acc}\")\n",
        "print(f\"Test accuracy of SVM is : {svm_test_acc}\")\n",
        "\n",
        "print(confusion_matrix(y_test, y_pred))\n",
        "print(classification_report(y_test, y_pred))\n",
        "\n",
        "print(f\"Recall: {recall_score(y_test, y_pred, average='macro')}\")\n",
        "print(f\"Specificity: {specificity_score(y_test, y_pred, average='macro')}\")\n",
        "print(f\"Precision: {precision_score(y_test, y_pred, average='macro')}\")\n",
        "print(f\"F-Measure: {f1_score(y_test, y_pred, average='macro')}\")"
      ],
      "metadata": {
        "id": "z2F4jjfM9OP8",
        "colab": {
          "base_uri": "https://localhost:8080/"
        },
        "outputId": "9d004dda-1cce-4d16-a3c3-c4fb439f6497"
      },
      "execution_count": 21,
      "outputs": [
        {
          "output_type": "stream",
          "name": "stdout",
          "text": [
            "Training accuracy of SVM is : 0.975\n",
            "Test accuracy of SVM is : 0.9666666666666667\n",
            "[[10  0  0]\n",
            " [ 0 10  0]\n",
            " [ 0  1  9]]\n",
            "              precision    recall  f1-score   support\n",
            "\n",
            "           0       1.00      1.00      1.00        10\n",
            "           1       0.91      1.00      0.95        10\n",
            "           2       1.00      0.90      0.95        10\n",
            "\n",
            "    accuracy                           0.97        30\n",
            "   macro avg       0.97      0.97      0.97        30\n",
            "weighted avg       0.97      0.97      0.97        30\n",
            "\n",
            "Recall: 0.9666666666666667\n",
            "Specificity: 0.9833333333333334\n",
            "Precision: 0.9696969696969697\n",
            "F-Measure: 0.9665831244778613\n"
          ]
        }
      ]
    },
    {
      "cell_type": "code",
      "source": [
        "# @title SVM kernel=rbf\n",
        "\n",
        "from sklearn import svm\n",
        "\n",
        "svm_model = svm.SVC(kernel='rbf')\n",
        "svm_model.fit(X_train, y_train)\n",
        "\n",
        "y_pred = svm_model.predict(X_test)\n",
        "\n",
        "svm_train_acc = accuracy_score(y_train, svm_model.predict(X_train))\n",
        "svm_test_acc = accuracy_score(y_test, y_pred)\n",
        "\n",
        "print(f\"Training accuracy of SVM is : {svm_train_acc}\")\n",
        "print(f\"Test accuracy of SVM is : {svm_test_acc}\")\n",
        "\n",
        "print(confusion_matrix(y_test, y_pred))\n",
        "print(classification_report(y_test, y_pred))\n",
        "\n",
        "print(f\"Recall: {recall_score(y_test, y_pred, average='macro')}\")\n",
        "print(f\"Specificity: {specificity_score(y_test, y_pred, average='macro')}\")\n",
        "print(f\"Precision: {precision_score(y_test, y_pred, average='macro')}\")\n",
        "print(f\"F-Measure: {f1_score(y_test, y_pred, average='macro')}\")"
      ],
      "metadata": {
        "id": "J2uSIlus9STA",
        "colab": {
          "base_uri": "https://localhost:8080/"
        },
        "outputId": "027f8516-4fda-40e8-febf-4eb0e66786a1"
      },
      "execution_count": 22,
      "outputs": [
        {
          "output_type": "stream",
          "name": "stdout",
          "text": [
            "Training accuracy of SVM is : 0.9583333333333334\n",
            "Test accuracy of SVM is : 0.9666666666666667\n",
            "[[10  0  0]\n",
            " [ 0 10  0]\n",
            " [ 0  1  9]]\n",
            "              precision    recall  f1-score   support\n",
            "\n",
            "           0       1.00      1.00      1.00        10\n",
            "           1       0.91      1.00      0.95        10\n",
            "           2       1.00      0.90      0.95        10\n",
            "\n",
            "    accuracy                           0.97        30\n",
            "   macro avg       0.97      0.97      0.97        30\n",
            "weighted avg       0.97      0.97      0.97        30\n",
            "\n",
            "Recall: 0.9666666666666667\n",
            "Specificity: 0.9833333333333334\n",
            "Precision: 0.9696969696969697\n",
            "F-Measure: 0.9665831244778613\n"
          ]
        }
      ]
    },
    {
      "cell_type": "code",
      "source": [
        "# @title SVM kernel=sigmoid\n",
        "\n",
        "from sklearn import svm\n",
        "\n",
        "svm_model = svm.SVC(kernel='sigmoid')\n",
        "svm_model.fit(X_train, y_train)\n",
        "\n",
        "y_pred = svm_model.predict(X_test)\n",
        "\n",
        "svm_train_acc = accuracy_score(y_train, svm_model.predict(X_train))\n",
        "svm_test_acc = accuracy_score(y_test, y_pred)\n",
        "\n",
        "print(f\"Training accuracy of SVM is : {svm_train_acc}\")\n",
        "print(f\"Test accuracy of SVM is : {svm_test_acc}\")\n",
        "\n",
        "print(confusion_matrix(y_test, y_pred))\n",
        "print(classification_report(y_test, y_pred))\n",
        "\n",
        "print(f\"Recall: {recall_score(y_test, y_pred, average='macro')}\")\n",
        "print(f\"Specificity: {specificity_score(y_test, y_pred, average='macro')}\")\n",
        "print(f\"Precision: {precision_score(y_test, y_pred, average='macro')}\")\n",
        "print(f\"F-Measure: {f1_score(y_test, y_pred, average='macro')}\")"
      ],
      "metadata": {
        "id": "Afb7UHZr9VRv",
        "colab": {
          "base_uri": "https://localhost:8080/"
        },
        "outputId": "aab17144-e3e4-4aef-e71a-8750f22c9ac9"
      },
      "execution_count": 23,
      "outputs": [
        {
          "output_type": "stream",
          "name": "stdout",
          "text": [
            "Training accuracy of SVM is : 0.08333333333333333\n",
            "Test accuracy of SVM is : 0.03333333333333333\n",
            "[[ 1  0  9]\n",
            " [ 7  0  3]\n",
            " [10  0  0]]\n",
            "              precision    recall  f1-score   support\n",
            "\n",
            "           0       0.06      0.10      0.07        10\n",
            "           1       0.00      0.00      0.00        10\n",
            "           2       0.00      0.00      0.00        10\n",
            "\n",
            "    accuracy                           0.03        30\n",
            "   macro avg       0.02      0.03      0.02        30\n",
            "weighted avg       0.02      0.03      0.02        30\n",
            "\n",
            "Recall: 0.03333333333333333\n",
            "Specificity: 0.5166666666666666\n",
            "Precision: 0.018518518518518517\n",
            "F-Measure: 0.023809523809523808\n"
          ]
        },
        {
          "output_type": "stream",
          "name": "stderr",
          "text": [
            "/usr/local/lib/python3.10/dist-packages/sklearn/metrics/_classification.py:1344: UndefinedMetricWarning: Precision and F-score are ill-defined and being set to 0.0 in labels with no predicted samples. Use `zero_division` parameter to control this behavior.\n",
            "  _warn_prf(average, modifier, msg_start, len(result))\n",
            "/usr/local/lib/python3.10/dist-packages/sklearn/metrics/_classification.py:1344: UndefinedMetricWarning: Precision and F-score are ill-defined and being set to 0.0 in labels with no predicted samples. Use `zero_division` parameter to control this behavior.\n",
            "  _warn_prf(average, modifier, msg_start, len(result))\n",
            "/usr/local/lib/python3.10/dist-packages/sklearn/metrics/_classification.py:1344: UndefinedMetricWarning: Precision and F-score are ill-defined and being set to 0.0 in labels with no predicted samples. Use `zero_division` parameter to control this behavior.\n",
            "  _warn_prf(average, modifier, msg_start, len(result))\n",
            "/usr/local/lib/python3.10/dist-packages/sklearn/metrics/_classification.py:1344: UndefinedMetricWarning: Precision is ill-defined and being set to 0.0 in labels with no predicted samples. Use `zero_division` parameter to control this behavior.\n",
            "  _warn_prf(average, modifier, msg_start, len(result))\n"
          ]
        }
      ]
    },
    {
      "cell_type": "code",
      "source": [
        "# @title ANN\n",
        "import keras\n",
        "from keras.models import Sequential\n",
        "from keras.layers import Dense\n",
        "from keras.utils import to_categorical\n",
        "\n",
        "model = Sequential()\n",
        "model.add(Dense(4, activation='relu', input_shape=(X_train.shape[1],)))\n",
        "model.add(Dense(6, activation='relu'))\n",
        "model.add(Dense(6, activation='relu'))\n",
        "model.add(Dense(3, activation='softmax'))\n",
        "\n",
        "y_train_one_hot = to_categorical(y_train, num_classes=3)\n",
        "y_test_one_hot = to_categorical(y_test, num_classes=3)\n",
        "\n",
        "# Kompilasi model\n",
        "model.compile(optimizer='adam', loss='categorical_crossentropy', metrics=['accuracy'])\n",
        "\n",
        "# Latih model\n",
        "model.fit(X_train, y_train_one_hot, epochs=100, batch_size=32)\n",
        "\n",
        "y_pred = model.predict(X_test)\n",
        "y_pred_classes = np.argmax(y_pred, axis=1)\n",
        "y_test_classes = np.argmax(y_test_one_hot, axis=1)\n",
        "\n",
        "# ann_train_acc = accuracy_score(y_train, y_train_classes)\n",
        "ann_test_acc = accuracy_score(y_test_classes, y_pred_classes)\n",
        "\n",
        "print(f\"Test accuracy of ANN is : {ann_test_acc}\")\n",
        "\n",
        "print(confusion_matrix(y_test_classes, y_pred_classes))\n",
        "print(classification_report(y_test_classes, y_pred_classes))\n",
        "\n",
        "print(f\"Recall: {recall_score(y_test_classes, y_pred_classes, average='macro')}\")\n",
        "print(f\"Specificity: {specificity_score(y_test_classes, y_pred_classes, average='macro')}\")\n",
        "print(f\"Precision: {precision_score(y_test_classes, y_pred_classes, average='macro')}\")\n",
        "print(f\"F-Measure: {f1_score(y_test_classes, y_pred_classes, average='macro')}\")"
      ],
      "metadata": {
        "id": "3gzkBAt79ZOm",
        "colab": {
          "base_uri": "https://localhost:8080/"
        },
        "outputId": "c0d44406-c03b-40bb-8d6b-df019c9e9b43"
      },
      "execution_count": 24,
      "outputs": [
        {
          "output_type": "stream",
          "name": "stdout",
          "text": [
            "Epoch 1/100\n",
            "4/4 [==============================] - 1s 7ms/step - loss: 1.1486 - accuracy: 0.1083\n",
            "Epoch 2/100\n",
            "4/4 [==============================] - 0s 5ms/step - loss: 1.1414 - accuracy: 0.1750\n",
            "Epoch 3/100\n",
            "4/4 [==============================] - 0s 5ms/step - loss: 1.1342 - accuracy: 0.3167\n",
            "Epoch 4/100\n",
            "4/4 [==============================] - 0s 5ms/step - loss: 1.1272 - accuracy: 0.5500\n",
            "Epoch 5/100\n",
            "4/4 [==============================] - 0s 5ms/step - loss: 1.1224 - accuracy: 0.6583\n",
            "Epoch 6/100\n",
            "4/4 [==============================] - 0s 5ms/step - loss: 1.1178 - accuracy: 0.6583\n",
            "Epoch 7/100\n",
            "4/4 [==============================] - 0s 5ms/step - loss: 1.1143 - accuracy: 0.6500\n",
            "Epoch 8/100\n",
            "4/4 [==============================] - 0s 5ms/step - loss: 1.1111 - accuracy: 0.6167\n",
            "Epoch 9/100\n",
            "4/4 [==============================] - 0s 4ms/step - loss: 1.1088 - accuracy: 0.5917\n",
            "Epoch 10/100\n",
            "4/4 [==============================] - 0s 4ms/step - loss: 1.1059 - accuracy: 0.5750\n",
            "Epoch 11/100\n",
            "4/4 [==============================] - 0s 6ms/step - loss: 1.1032 - accuracy: 0.5167\n",
            "Epoch 12/100\n",
            "4/4 [==============================] - 0s 5ms/step - loss: 1.1008 - accuracy: 0.3333\n",
            "Epoch 13/100\n",
            "4/4 [==============================] - 0s 4ms/step - loss: 1.0986 - accuracy: 0.3333\n",
            "Epoch 14/100\n",
            "4/4 [==============================] - 0s 4ms/step - loss: 1.0973 - accuracy: 0.3333\n",
            "Epoch 15/100\n",
            "4/4 [==============================] - 0s 4ms/step - loss: 1.0960 - accuracy: 0.3333\n",
            "Epoch 16/100\n",
            "4/4 [==============================] - 0s 4ms/step - loss: 1.0953 - accuracy: 0.3333\n",
            "Epoch 17/100\n",
            "4/4 [==============================] - 0s 4ms/step - loss: 1.0946 - accuracy: 0.3417\n",
            "Epoch 18/100\n",
            "4/4 [==============================] - 0s 5ms/step - loss: 1.0938 - accuracy: 0.4167\n",
            "Epoch 19/100\n",
            "4/4 [==============================] - 0s 6ms/step - loss: 1.0928 - accuracy: 0.5000\n",
            "Epoch 20/100\n",
            "4/4 [==============================] - 0s 7ms/step - loss: 1.0918 - accuracy: 0.5000\n",
            "Epoch 21/100\n",
            "4/4 [==============================] - 0s 4ms/step - loss: 1.0910 - accuracy: 0.5333\n",
            "Epoch 22/100\n",
            "4/4 [==============================] - 0s 4ms/step - loss: 1.0903 - accuracy: 0.5500\n",
            "Epoch 23/100\n",
            "4/4 [==============================] - 0s 4ms/step - loss: 1.0896 - accuracy: 0.5583\n",
            "Epoch 24/100\n",
            "4/4 [==============================] - 0s 4ms/step - loss: 1.0888 - accuracy: 0.5500\n",
            "Epoch 25/100\n",
            "4/4 [==============================] - 0s 7ms/step - loss: 1.0880 - accuracy: 0.5167\n",
            "Epoch 26/100\n",
            "4/4 [==============================] - 0s 6ms/step - loss: 1.0873 - accuracy: 0.5083\n",
            "Epoch 27/100\n",
            "4/4 [==============================] - 0s 5ms/step - loss: 1.0864 - accuracy: 0.5083\n",
            "Epoch 28/100\n",
            "4/4 [==============================] - 0s 5ms/step - loss: 1.0856 - accuracy: 0.5000\n",
            "Epoch 29/100\n",
            "4/4 [==============================] - 0s 5ms/step - loss: 1.0847 - accuracy: 0.5167\n",
            "Epoch 30/100\n",
            "4/4 [==============================] - 0s 5ms/step - loss: 1.0839 - accuracy: 0.5167\n",
            "Epoch 31/100\n",
            "4/4 [==============================] - 0s 6ms/step - loss: 1.0830 - accuracy: 0.5167\n",
            "Epoch 32/100\n",
            "4/4 [==============================] - 0s 8ms/step - loss: 1.0821 - accuracy: 0.5250\n",
            "Epoch 33/100\n",
            "4/4 [==============================] - 0s 4ms/step - loss: 1.0812 - accuracy: 0.5250\n",
            "Epoch 34/100\n",
            "4/4 [==============================] - 0s 4ms/step - loss: 1.0802 - accuracy: 0.5250\n",
            "Epoch 35/100\n",
            "4/4 [==============================] - 0s 4ms/step - loss: 1.0792 - accuracy: 0.5333\n",
            "Epoch 36/100\n",
            "4/4 [==============================] - 0s 5ms/step - loss: 1.0782 - accuracy: 0.5417\n",
            "Epoch 37/100\n",
            "4/4 [==============================] - 0s 5ms/step - loss: 1.0772 - accuracy: 0.5250\n",
            "Epoch 38/100\n",
            "4/4 [==============================] - 0s 4ms/step - loss: 1.0757 - accuracy: 0.5333\n",
            "Epoch 39/100\n",
            "4/4 [==============================] - 0s 4ms/step - loss: 1.0744 - accuracy: 0.5250\n",
            "Epoch 40/100\n",
            "4/4 [==============================] - 0s 7ms/step - loss: 1.0729 - accuracy: 0.5500\n",
            "Epoch 41/100\n",
            "4/4 [==============================] - 0s 5ms/step - loss: 1.0715 - accuracy: 0.6167\n",
            "Epoch 42/100\n",
            "4/4 [==============================] - 0s 4ms/step - loss: 1.0698 - accuracy: 0.8917\n",
            "Epoch 43/100\n",
            "4/4 [==============================] - 0s 5ms/step - loss: 1.0682 - accuracy: 0.8917\n",
            "Epoch 44/100\n",
            "4/4 [==============================] - 0s 5ms/step - loss: 1.0663 - accuracy: 0.9000\n",
            "Epoch 45/100\n",
            "4/4 [==============================] - 0s 5ms/step - loss: 1.0645 - accuracy: 0.8917\n",
            "Epoch 46/100\n",
            "4/4 [==============================] - 0s 4ms/step - loss: 1.0623 - accuracy: 0.8833\n",
            "Epoch 47/100\n",
            "4/4 [==============================] - 0s 4ms/step - loss: 1.0603 - accuracy: 0.8833\n",
            "Epoch 48/100\n",
            "4/4 [==============================] - 0s 4ms/step - loss: 1.0578 - accuracy: 0.8750\n",
            "Epoch 49/100\n",
            "4/4 [==============================] - 0s 4ms/step - loss: 1.0554 - accuracy: 0.8667\n",
            "Epoch 50/100\n",
            "4/4 [==============================] - 0s 4ms/step - loss: 1.0527 - accuracy: 0.8750\n",
            "Epoch 51/100\n",
            "4/4 [==============================] - 0s 5ms/step - loss: 1.0500 - accuracy: 0.8833\n",
            "Epoch 52/100\n",
            "4/4 [==============================] - 0s 5ms/step - loss: 1.0469 - accuracy: 0.8917\n",
            "Epoch 53/100\n",
            "4/4 [==============================] - 0s 6ms/step - loss: 1.0441 - accuracy: 0.9000\n",
            "Epoch 54/100\n",
            "4/4 [==============================] - 0s 7ms/step - loss: 1.0404 - accuracy: 0.8750\n",
            "Epoch 55/100\n",
            "4/4 [==============================] - 0s 5ms/step - loss: 1.0370 - accuracy: 0.8333\n",
            "Epoch 56/100\n",
            "4/4 [==============================] - 0s 6ms/step - loss: 1.0333 - accuracy: 0.8250\n",
            "Epoch 57/100\n",
            "4/4 [==============================] - 0s 7ms/step - loss: 1.0294 - accuracy: 0.8667\n",
            "Epoch 58/100\n",
            "4/4 [==============================] - 0s 7ms/step - loss: 1.0255 - accuracy: 0.8750\n",
            "Epoch 59/100\n",
            "4/4 [==============================] - 0s 6ms/step - loss: 1.0211 - accuracy: 0.8583\n",
            "Epoch 60/100\n",
            "4/4 [==============================] - 0s 6ms/step - loss: 1.0164 - accuracy: 0.8500\n",
            "Epoch 61/100\n",
            "4/4 [==============================] - 0s 7ms/step - loss: 1.0117 - accuracy: 0.8333\n",
            "Epoch 62/100\n",
            "4/4 [==============================] - 0s 5ms/step - loss: 1.0069 - accuracy: 0.8583\n",
            "Epoch 63/100\n",
            "4/4 [==============================] - 0s 6ms/step - loss: 1.0013 - accuracy: 0.8583\n",
            "Epoch 64/100\n",
            "4/4 [==============================] - 0s 5ms/step - loss: 0.9962 - accuracy: 0.7750\n",
            "Epoch 65/100\n",
            "4/4 [==============================] - 0s 6ms/step - loss: 0.9902 - accuracy: 0.7333\n",
            "Epoch 66/100\n",
            "4/4 [==============================] - 0s 5ms/step - loss: 0.9845 - accuracy: 0.7250\n",
            "Epoch 67/100\n",
            "4/4 [==============================] - 0s 5ms/step - loss: 0.9787 - accuracy: 0.7167\n",
            "Epoch 68/100\n",
            "4/4 [==============================] - 0s 6ms/step - loss: 0.9718 - accuracy: 0.7167\n",
            "Epoch 69/100\n",
            "4/4 [==============================] - 0s 6ms/step - loss: 0.9656 - accuracy: 0.7167\n",
            "Epoch 70/100\n",
            "4/4 [==============================] - 0s 6ms/step - loss: 0.9589 - accuracy: 0.7083\n",
            "Epoch 71/100\n",
            "4/4 [==============================] - 0s 6ms/step - loss: 0.9521 - accuracy: 0.7000\n",
            "Epoch 72/100\n",
            "4/4 [==============================] - 0s 6ms/step - loss: 0.9451 - accuracy: 0.6917\n",
            "Epoch 73/100\n",
            "4/4 [==============================] - 0s 4ms/step - loss: 0.9377 - accuracy: 0.7083\n",
            "Epoch 74/100\n",
            "4/4 [==============================] - 0s 5ms/step - loss: 0.9306 - accuracy: 0.7250\n",
            "Epoch 75/100\n",
            "4/4 [==============================] - 0s 6ms/step - loss: 0.9234 - accuracy: 0.6750\n",
            "Epoch 76/100\n",
            "4/4 [==============================] - 0s 5ms/step - loss: 0.9155 - accuracy: 0.6917\n",
            "Epoch 77/100\n",
            "4/4 [==============================] - 0s 5ms/step - loss: 0.9079 - accuracy: 0.6833\n",
            "Epoch 78/100\n",
            "4/4 [==============================] - 0s 6ms/step - loss: 0.9002 - accuracy: 0.6833\n",
            "Epoch 79/100\n",
            "4/4 [==============================] - 0s 5ms/step - loss: 0.8922 - accuracy: 0.6917\n",
            "Epoch 80/100\n",
            "4/4 [==============================] - 0s 6ms/step - loss: 0.8841 - accuracy: 0.6917\n",
            "Epoch 81/100\n",
            "4/4 [==============================] - 0s 5ms/step - loss: 0.8768 - accuracy: 0.7250\n",
            "Epoch 82/100\n",
            "4/4 [==============================] - 0s 5ms/step - loss: 0.8684 - accuracy: 0.7667\n",
            "Epoch 83/100\n",
            "4/4 [==============================] - 0s 5ms/step - loss: 0.8609 - accuracy: 0.7667\n",
            "Epoch 84/100\n",
            "4/4 [==============================] - 0s 5ms/step - loss: 0.8523 - accuracy: 0.8500\n",
            "Epoch 85/100\n",
            "4/4 [==============================] - 0s 4ms/step - loss: 0.8443 - accuracy: 0.8583\n",
            "Epoch 86/100\n",
            "4/4 [==============================] - 0s 4ms/step - loss: 0.8363 - accuracy: 0.8750\n",
            "Epoch 87/100\n",
            "4/4 [==============================] - 0s 5ms/step - loss: 0.8282 - accuracy: 0.8750\n",
            "Epoch 88/100\n",
            "4/4 [==============================] - 0s 8ms/step - loss: 0.8203 - accuracy: 0.8750\n",
            "Epoch 89/100\n",
            "4/4 [==============================] - 0s 7ms/step - loss: 0.8123 - accuracy: 0.8750\n",
            "Epoch 90/100\n",
            "4/4 [==============================] - 0s 5ms/step - loss: 0.8043 - accuracy: 0.9000\n",
            "Epoch 91/100\n",
            "4/4 [==============================] - 0s 6ms/step - loss: 0.7964 - accuracy: 0.9083\n",
            "Epoch 92/100\n",
            "4/4 [==============================] - 0s 6ms/step - loss: 0.7886 - accuracy: 0.9083\n",
            "Epoch 93/100\n",
            "4/4 [==============================] - 0s 6ms/step - loss: 0.7811 - accuracy: 0.9250\n",
            "Epoch 94/100\n",
            "4/4 [==============================] - 0s 5ms/step - loss: 0.7730 - accuracy: 0.9167\n",
            "Epoch 95/100\n",
            "4/4 [==============================] - 0s 6ms/step - loss: 0.7654 - accuracy: 0.9250\n",
            "Epoch 96/100\n",
            "4/4 [==============================] - 0s 6ms/step - loss: 0.7578 - accuracy: 0.9250\n",
            "Epoch 97/100\n",
            "4/4 [==============================] - 0s 5ms/step - loss: 0.7504 - accuracy: 0.9167\n",
            "Epoch 98/100\n",
            "4/4 [==============================] - 0s 4ms/step - loss: 0.7433 - accuracy: 0.9000\n",
            "Epoch 99/100\n",
            "4/4 [==============================] - 0s 5ms/step - loss: 0.7357 - accuracy: 0.9167\n",
            "Epoch 100/100\n",
            "4/4 [==============================] - 0s 5ms/step - loss: 0.7284 - accuracy: 0.9083\n",
            "1/1 [==============================] - 0s 97ms/step\n",
            "Test accuracy of ANN is : 0.9333333333333333\n",
            "[[10  0  0]\n",
            " [ 2  8  0]\n",
            " [ 0  0 10]]\n",
            "              precision    recall  f1-score   support\n",
            "\n",
            "           0       0.83      1.00      0.91        10\n",
            "           1       1.00      0.80      0.89        10\n",
            "           2       1.00      1.00      1.00        10\n",
            "\n",
            "    accuracy                           0.93        30\n",
            "   macro avg       0.94      0.93      0.93        30\n",
            "weighted avg       0.94      0.93      0.93        30\n",
            "\n",
            "Recall: 0.9333333333333332\n",
            "Specificity: 0.9666666666666667\n",
            "Precision: 0.9444444444444445\n",
            "F-Measure: 0.9326599326599326\n"
          ]
        }
      ]
    },
    {
      "cell_type": "markdown",
      "source": [
        "# Skenario 2 (Normalisasi Min-Max Scalling)"
      ],
      "metadata": {
        "id": "QncIFWXy53Uy"
      }
    },
    {
      "cell_type": "code",
      "source": [
        "from sklearn.preprocessing import MinMaxScaler\n",
        "scaler = MinMaxScaler()\n",
        "X_train_scaled = pd.DataFrame(scaler.fit_transform(X_train), columns=X_train.columns)\n",
        "X_test_scaled = pd.DataFrame(scaler.fit_transform(X_test), columns=X_test.columns)"
      ],
      "metadata": {
        "id": "QfNgfem0wJ_M"
      },
      "execution_count": 25,
      "outputs": []
    },
    {
      "cell_type": "code",
      "source": [
        "# @title Decision Tree criterion=gini\n",
        "from sklearn.tree import DecisionTreeClassifier\n",
        "\n",
        "dtc = DecisionTreeClassifier(criterion='gini')\n",
        "dtc.fit(X_train_scaled, y_train)\n",
        "\n",
        "y_pred = dtc.predict(X_test_scaled)\n",
        "\n",
        "from sklearn.metrics import accuracy_score, confusion_matrix, classification_report\n",
        "\n",
        "dtc_train_acc = accuracy_score(y_train, dtc.predict(X_train_scaled))\n",
        "dtc_test_acc = accuracy_score(y_test, y_pred)\n",
        "\n",
        "print(f\"Training accuracy of Decision Tree is : {dtc_train_acc}\")\n",
        "print(f\"Test accuracy of Decision Tree is : {dtc_test_acc}\")\n",
        "\n",
        "print(confusion_matrix(y_test, y_pred))\n",
        "print(classification_report(y_test, y_pred))\n",
        "\n",
        "print(f\"Recall: {recall_score(y_test, y_pred, average='macro')}\")\n",
        "print(f\"Specificity: {specificity_score(y_test, y_pred, average='macro')}\")\n",
        "print(f\"Precision: {precision_score(y_test, y_pred, average='macro')}\")\n",
        "print(f\"F-Measure: {f1_score(y_test, y_pred, average='macro')}\")"
      ],
      "metadata": {
        "id": "L4MidnImxE3B",
        "colab": {
          "base_uri": "https://localhost:8080/"
        },
        "outputId": "2a6db5b2-d783-48c7-ddf4-bfd9dfc3528b"
      },
      "execution_count": 26,
      "outputs": [
        {
          "output_type": "stream",
          "name": "stdout",
          "text": [
            "Training accuracy of Decision Tree is : 1.0\n",
            "Test accuracy of Decision Tree is : 0.9333333333333333\n",
            "[[10  0  0]\n",
            " [ 0  9  1]\n",
            " [ 0  1  9]]\n",
            "              precision    recall  f1-score   support\n",
            "\n",
            "           0       1.00      1.00      1.00        10\n",
            "           1       0.90      0.90      0.90        10\n",
            "           2       0.90      0.90      0.90        10\n",
            "\n",
            "    accuracy                           0.93        30\n",
            "   macro avg       0.93      0.93      0.93        30\n",
            "weighted avg       0.93      0.93      0.93        30\n",
            "\n",
            "Recall: 0.9333333333333332\n",
            "Specificity: 0.9666666666666667\n",
            "Precision: 0.9333333333333332\n",
            "F-Measure: 0.9333333333333332\n"
          ]
        }
      ]
    },
    {
      "cell_type": "code",
      "source": [
        "# @title Decision Tree criterion=entropy\n",
        "from sklearn.tree import DecisionTreeClassifier\n",
        "\n",
        "dtc = DecisionTreeClassifier(criterion='entropy')\n",
        "dtc.fit(X_train_scaled, y_train)\n",
        "\n",
        "y_pred = dtc.predict(X_test_scaled)\n",
        "\n",
        "from sklearn.metrics import accuracy_score, confusion_matrix, classification_report\n",
        "\n",
        "dtc_train_acc = accuracy_score(y_train, dtc.predict(X_train_scaled))\n",
        "dtc_test_acc = accuracy_score(y_test, y_pred)\n",
        "\n",
        "print(f\"Training accuracy of Decision Tree is : {dtc_train_acc}\")\n",
        "print(f\"Test accuracy of Decision Tree is : {dtc_test_acc}\")\n",
        "\n",
        "print(confusion_matrix(y_test, y_pred))\n",
        "print(classification_report(y_test, y_pred))\n",
        "\n",
        "print(f\"Recall: {recall_score(y_test, y_pred, average='macro')}\")\n",
        "print(f\"Specificity: {specificity_score(y_test, y_pred, average='macro')}\")\n",
        "print(f\"Precision: {precision_score(y_test, y_pred, average='macro')}\")\n",
        "print(f\"F-Measure: {f1_score(y_test, y_pred, average='macro')}\")"
      ],
      "metadata": {
        "id": "kQQ7m1nTJXPM",
        "colab": {
          "base_uri": "https://localhost:8080/"
        },
        "outputId": "658354f9-15e8-4c67-b7b2-32400f855f9c"
      },
      "execution_count": 27,
      "outputs": [
        {
          "output_type": "stream",
          "name": "stdout",
          "text": [
            "Training accuracy of Decision Tree is : 1.0\n",
            "Test accuracy of Decision Tree is : 0.9333333333333333\n",
            "[[10  0  0]\n",
            " [ 0  9  1]\n",
            " [ 0  1  9]]\n",
            "              precision    recall  f1-score   support\n",
            "\n",
            "           0       1.00      1.00      1.00        10\n",
            "           1       0.90      0.90      0.90        10\n",
            "           2       0.90      0.90      0.90        10\n",
            "\n",
            "    accuracy                           0.93        30\n",
            "   macro avg       0.93      0.93      0.93        30\n",
            "weighted avg       0.93      0.93      0.93        30\n",
            "\n",
            "Recall: 0.9333333333333332\n",
            "Specificity: 0.9666666666666667\n",
            "Precision: 0.9333333333333332\n",
            "F-Measure: 0.9333333333333332\n"
          ]
        }
      ]
    },
    {
      "cell_type": "code",
      "source": [
        "# @title KNN k=3\n",
        "from sklearn.neighbors import KNeighborsClassifier\n",
        "\n",
        "\n",
        "neigh = KNeighborsClassifier(n_neighbors=3)\n",
        "neigh.fit(X_train_scaled, y_train)\n",
        "\n",
        "y_pred = neigh.predict(X_test_scaled)\n",
        "\n",
        "neigh_train_acc = accuracy_score(y_train, neigh.predict(X_train_scaled))\n",
        "neigh_test_acc = accuracy_score(y_test, y_pred)\n",
        "\n",
        "print(f\"Training accuracy of KNN is : {neigh_train_acc}\")\n",
        "print(f\"Test accuracy of KNN is : {neigh_test_acc}\")\n",
        "\n",
        "print(confusion_matrix(y_test, y_pred))\n",
        "print(classification_report(y_test, y_pred))\n",
        "\n",
        "print(f\"Recall: {recall_score(y_test, y_pred, average='macro')}\")\n",
        "print(f\"Specificity: {specificity_score(y_test, y_pred, average='macro')}\")\n",
        "print(f\"Precision: {precision_score(y_test, y_pred, average='macro')}\")\n",
        "print(f\"F-Measure: {f1_score(y_test, y_pred, average='macro')}\")"
      ],
      "metadata": {
        "id": "M0YMPjpPJwio",
        "colab": {
          "base_uri": "https://localhost:8080/"
        },
        "outputId": "a4ee101f-5f71-4daf-ea17-5396db514e76"
      },
      "execution_count": 28,
      "outputs": [
        {
          "output_type": "stream",
          "name": "stdout",
          "text": [
            "Training accuracy of KNN is : 0.975\n",
            "Test accuracy of KNN is : 0.9666666666666667\n",
            "[[10  0  0]\n",
            " [ 0 10  0]\n",
            " [ 0  1  9]]\n",
            "              precision    recall  f1-score   support\n",
            "\n",
            "           0       1.00      1.00      1.00        10\n",
            "           1       0.91      1.00      0.95        10\n",
            "           2       1.00      0.90      0.95        10\n",
            "\n",
            "    accuracy                           0.97        30\n",
            "   macro avg       0.97      0.97      0.97        30\n",
            "weighted avg       0.97      0.97      0.97        30\n",
            "\n",
            "Recall: 0.9666666666666667\n",
            "Specificity: 0.9833333333333334\n",
            "Precision: 0.9696969696969697\n",
            "F-Measure: 0.9665831244778613\n"
          ]
        }
      ]
    },
    {
      "cell_type": "code",
      "source": [
        "# @title KNN k=5\n",
        "from sklearn.neighbors import KNeighborsClassifier\n",
        "\n",
        "\n",
        "neigh = KNeighborsClassifier(n_neighbors=5)\n",
        "neigh.fit(X_train_scaled, y_train)\n",
        "\n",
        "y_pred = neigh.predict(X_test_scaled)\n",
        "\n",
        "neigh_train_acc = accuracy_score(y_train, neigh.predict(X_train_scaled))\n",
        "neigh_test_acc = accuracy_score(y_test, y_pred)\n",
        "\n",
        "print(f\"Training accuracy of KNN is : {neigh_train_acc}\")\n",
        "print(f\"Test accuracy of KNN is : {neigh_test_acc}\")\n",
        "\n",
        "print(confusion_matrix(y_test, y_pred))\n",
        "print(classification_report(y_test, y_pred))\n",
        "\n",
        "print(f\"Recall: {recall_score(y_test, y_pred, average='macro')}\")\n",
        "print(f\"Specificity: {specificity_score(y_test, y_pred, average='macro')}\")\n",
        "print(f\"Precision: {precision_score(y_test, y_pred, average='macro')}\")\n",
        "print(f\"F-Measure: {f1_score(y_test, y_pred, average='macro')}\")"
      ],
      "metadata": {
        "id": "HVi7vRu3J7Yn",
        "colab": {
          "base_uri": "https://localhost:8080/"
        },
        "outputId": "0875efd8-2b0a-4408-b5f9-575effa6f6c9"
      },
      "execution_count": 29,
      "outputs": [
        {
          "output_type": "stream",
          "name": "stdout",
          "text": [
            "Training accuracy of KNN is : 0.9833333333333333\n",
            "Test accuracy of KNN is : 0.9666666666666667\n",
            "[[10  0  0]\n",
            " [ 0 10  0]\n",
            " [ 0  1  9]]\n",
            "              precision    recall  f1-score   support\n",
            "\n",
            "           0       1.00      1.00      1.00        10\n",
            "           1       0.91      1.00      0.95        10\n",
            "           2       1.00      0.90      0.95        10\n",
            "\n",
            "    accuracy                           0.97        30\n",
            "   macro avg       0.97      0.97      0.97        30\n",
            "weighted avg       0.97      0.97      0.97        30\n",
            "\n",
            "Recall: 0.9666666666666667\n",
            "Specificity: 0.9833333333333334\n",
            "Precision: 0.9696969696969697\n",
            "F-Measure: 0.9665831244778613\n"
          ]
        }
      ]
    },
    {
      "cell_type": "code",
      "source": [
        "# @title KNN k=7\n",
        "from sklearn.neighbors import KNeighborsClassifier\n",
        "\n",
        "\n",
        "neigh = KNeighborsClassifier(n_neighbors=7)\n",
        "neigh.fit(X_train_scaled, y_train)\n",
        "\n",
        "y_pred = neigh.predict(X_test_scaled)\n",
        "\n",
        "neigh_train_acc = accuracy_score(y_train, neigh.predict(X_train_scaled))\n",
        "neigh_test_acc = accuracy_score(y_test, y_pred)\n",
        "\n",
        "print(f\"Training accuracy of KNN is : {neigh_train_acc}\")\n",
        "print(f\"Test accuracy of KNN is : {neigh_test_acc}\")\n",
        "\n",
        "print(confusion_matrix(y_test, y_pred))\n",
        "print(classification_report(y_test, y_pred))\n",
        "\n",
        "print(f\"Recall: {recall_score(y_test, y_pred, average='macro')}\")\n",
        "print(f\"Specificity: {specificity_score(y_test, y_pred, average='macro')}\")\n",
        "print(f\"Precision: {precision_score(y_test, y_pred, average='macro')}\")\n",
        "print(f\"F-Measure: {f1_score(y_test, y_pred, average='macro')}\")"
      ],
      "metadata": {
        "id": "2-jVhl2YJ_b8",
        "colab": {
          "base_uri": "https://localhost:8080/"
        },
        "outputId": "1e52bd43-f96a-46db-9a10-54e80f3362d8"
      },
      "execution_count": 30,
      "outputs": [
        {
          "output_type": "stream",
          "name": "stdout",
          "text": [
            "Training accuracy of KNN is : 0.9833333333333333\n",
            "Test accuracy of KNN is : 0.9666666666666667\n",
            "[[10  0  0]\n",
            " [ 0 10  0]\n",
            " [ 0  1  9]]\n",
            "              precision    recall  f1-score   support\n",
            "\n",
            "           0       1.00      1.00      1.00        10\n",
            "           1       0.91      1.00      0.95        10\n",
            "           2       1.00      0.90      0.95        10\n",
            "\n",
            "    accuracy                           0.97        30\n",
            "   macro avg       0.97      0.97      0.97        30\n",
            "weighted avg       0.97      0.97      0.97        30\n",
            "\n",
            "Recall: 0.9666666666666667\n",
            "Specificity: 0.9833333333333334\n",
            "Precision: 0.9696969696969697\n",
            "F-Measure: 0.9665831244778613\n"
          ]
        }
      ]
    },
    {
      "cell_type": "code",
      "source": [
        "# @title Naive Bayes\n",
        "\n",
        "from sklearn.naive_bayes import GaussianNB\n",
        "\n",
        "nb = GaussianNB()\n",
        "nb.fit(X_train_scaled, y_train)\n",
        "\n",
        "y_pred = nb.predict(X_test_scaled)\n",
        "\n",
        "nb_train_acc = accuracy_score(y_train, nb.predict(X_train_scaled))\n",
        "nb_test_acc = accuracy_score(y_test, y_pred)\n",
        "\n",
        "print(f\"Training accuracy of Naive Bayes is : {nb_train_acc}\")\n",
        "print(f\"Test accuracy of Naive Bayes is : {nb_test_acc}\")\n",
        "\n",
        "print(confusion_matrix(y_test, y_pred))\n",
        "print(classification_report(y_test, y_pred))\n",
        "\n",
        "print(f\"Recall: {recall_score(y_test, y_pred, average='macro')}\")\n",
        "print(f\"Specificity: {specificity_score(y_test, y_pred, average='macro')}\")\n",
        "print(f\"Precision: {precision_score(y_test, y_pred, average='macro')}\")\n",
        "print(f\"F-Measure: {f1_score(y_test, y_pred, average='macro')}\")"
      ],
      "metadata": {
        "id": "iwtmjb0TKFTC",
        "colab": {
          "base_uri": "https://localhost:8080/"
        },
        "outputId": "822d7b54-e082-46c6-cf6b-5634203707e1"
      },
      "execution_count": 31,
      "outputs": [
        {
          "output_type": "stream",
          "name": "stdout",
          "text": [
            "Training accuracy of Naive Bayes is : 0.9666666666666667\n",
            "Test accuracy of Naive Bayes is : 0.9666666666666667\n",
            "[[10  0  0]\n",
            " [ 0 10  0]\n",
            " [ 0  1  9]]\n",
            "              precision    recall  f1-score   support\n",
            "\n",
            "           0       1.00      1.00      1.00        10\n",
            "           1       0.91      1.00      0.95        10\n",
            "           2       1.00      0.90      0.95        10\n",
            "\n",
            "    accuracy                           0.97        30\n",
            "   macro avg       0.97      0.97      0.97        30\n",
            "weighted avg       0.97      0.97      0.97        30\n",
            "\n",
            "Recall: 0.9666666666666667\n",
            "Specificity: 0.9833333333333334\n",
            "Precision: 0.9696969696969697\n",
            "F-Measure: 0.9665831244778613\n"
          ]
        }
      ]
    },
    {
      "cell_type": "code",
      "source": [
        "# @title SVM kernel=linear\n",
        "\n",
        "from sklearn import svm\n",
        "\n",
        "svm_model = svm.SVC(kernel='linear')\n",
        "svm_model.fit(X_train_scaled, y_train)\n",
        "\n",
        "y_pred = svm_model.predict(X_test_scaled)\n",
        "\n",
        "svm_train_acc = accuracy_score(y_train, svm_model.predict(X_train_scaled))\n",
        "svm_test_acc = accuracy_score(y_test, y_pred)\n",
        "\n",
        "print(f\"Training accuracy of SVM is : {svm_train_acc}\")\n",
        "print(f\"Test accuracy of SVM is : {svm_test_acc}\")\n",
        "\n",
        "print(confusion_matrix(y_test, y_pred))\n",
        "print(classification_report(y_test, y_pred))\n",
        "\n",
        "print(f\"Recall: {recall_score(y_test, y_pred, average='macro')}\")\n",
        "print(f\"Specificity: {specificity_score(y_test, y_pred, average='macro')}\")\n",
        "print(f\"Precision: {precision_score(y_test, y_pred, average='macro')}\")\n",
        "print(f\"F-Measure: {f1_score(y_test, y_pred, average='macro')}\")"
      ],
      "metadata": {
        "id": "Tx3rkkQLKNhu",
        "colab": {
          "base_uri": "https://localhost:8080/"
        },
        "outputId": "fed0bccb-33f8-4663-f3ba-ff2374e0157a"
      },
      "execution_count": 32,
      "outputs": [
        {
          "output_type": "stream",
          "name": "stdout",
          "text": [
            "Training accuracy of SVM is : 0.9833333333333333\n",
            "Test accuracy of SVM is : 1.0\n",
            "[[10  0  0]\n",
            " [ 0 10  0]\n",
            " [ 0  0 10]]\n",
            "              precision    recall  f1-score   support\n",
            "\n",
            "           0       1.00      1.00      1.00        10\n",
            "           1       1.00      1.00      1.00        10\n",
            "           2       1.00      1.00      1.00        10\n",
            "\n",
            "    accuracy                           1.00        30\n",
            "   macro avg       1.00      1.00      1.00        30\n",
            "weighted avg       1.00      1.00      1.00        30\n",
            "\n",
            "Recall: 1.0\n",
            "Specificity: 1.0\n",
            "Precision: 1.0\n",
            "F-Measure: 1.0\n"
          ]
        }
      ]
    },
    {
      "cell_type": "code",
      "source": [
        "# @title SVM kernel=polynomial\n",
        "\n",
        "from sklearn import svm\n",
        "\n",
        "svm_model = svm.SVC(kernel='poly')\n",
        "svm_model.fit(X_train_scaled, y_train)\n",
        "\n",
        "y_pred = svm_model.predict(X_test_scaled)\n",
        "\n",
        "svm_train_acc = accuracy_score(y_train, svm_model.predict(X_train_scaled))\n",
        "svm_test_acc = accuracy_score(y_test, y_pred)\n",
        "\n",
        "print(f\"Training accuracy of SVM is : {svm_train_acc}\")\n",
        "print(f\"Test accuracy of SVM is : {svm_test_acc}\")\n",
        "\n",
        "print(confusion_matrix(y_test, y_pred))\n",
        "print(classification_report(y_test, y_pred))\n",
        "\n",
        "print(f\"Recall: {recall_score(y_test, y_pred, average='macro')}\")\n",
        "print(f\"Specificity: {specificity_score(y_test, y_pred, average='macro')}\")\n",
        "print(f\"Precision: {precision_score(y_test, y_pred, average='macro')}\")\n",
        "print(f\"F-Measure: {f1_score(y_test, y_pred, average='macro')}\")"
      ],
      "metadata": {
        "id": "UEzWKMnZKTQl",
        "colab": {
          "base_uri": "https://localhost:8080/"
        },
        "outputId": "fdbb3d91-177a-4320-f6fb-1d2eb24ccb8b"
      },
      "execution_count": 33,
      "outputs": [
        {
          "output_type": "stream",
          "name": "stdout",
          "text": [
            "Training accuracy of SVM is : 0.975\n",
            "Test accuracy of SVM is : 0.9333333333333333\n",
            "[[10  0  0]\n",
            " [ 0 10  0]\n",
            " [ 0  2  8]]\n",
            "              precision    recall  f1-score   support\n",
            "\n",
            "           0       1.00      1.00      1.00        10\n",
            "           1       0.83      1.00      0.91        10\n",
            "           2       1.00      0.80      0.89        10\n",
            "\n",
            "    accuracy                           0.93        30\n",
            "   macro avg       0.94      0.93      0.93        30\n",
            "weighted avg       0.94      0.93      0.93        30\n",
            "\n",
            "Recall: 0.9333333333333332\n",
            "Specificity: 0.9666666666666667\n",
            "Precision: 0.9444444444444445\n",
            "F-Measure: 0.9326599326599326\n"
          ]
        }
      ]
    },
    {
      "cell_type": "code",
      "source": [
        "# @title SVM kernel=rbf\n",
        "\n",
        "from sklearn import svm\n",
        "\n",
        "svm_model = svm.SVC(kernel='rbf')\n",
        "svm_model.fit(X_train_scaled, y_train)\n",
        "\n",
        "y_pred = svm_model.predict(X_test_scaled)\n",
        "\n",
        "svm_train_acc = accuracy_score(y_train, svm_model.predict(X_train_scaled))\n",
        "svm_test_acc = accuracy_score(y_test, y_pred)\n",
        "\n",
        "print(f\"Training accuracy of SVM is : {svm_train_acc}\")\n",
        "print(f\"Test accuracy of SVM is : {svm_test_acc}\")\n",
        "\n",
        "print(confusion_matrix(y_test, y_pred))\n",
        "print(classification_report(y_test, y_pred))\n",
        "\n",
        "print(f\"Recall: {recall_score(y_test, y_pred, average='macro')}\")\n",
        "print(f\"Specificity: {specificity_score(y_test, y_pred, average='macro')}\")\n",
        "print(f\"Precision: {precision_score(y_test, y_pred, average='macro')}\")\n",
        "print(f\"F-Measure: {f1_score(y_test, y_pred, average='macro')}\")"
      ],
      "metadata": {
        "id": "FFfhlNkDKYlE",
        "colab": {
          "base_uri": "https://localhost:8080/"
        },
        "outputId": "c4e678a7-3645-4ed1-9dcb-c837342ee830"
      },
      "execution_count": 34,
      "outputs": [
        {
          "output_type": "stream",
          "name": "stdout",
          "text": [
            "Training accuracy of SVM is : 0.9666666666666667\n",
            "Test accuracy of SVM is : 0.9666666666666667\n",
            "[[10  0  0]\n",
            " [ 0 10  0]\n",
            " [ 0  1  9]]\n",
            "              precision    recall  f1-score   support\n",
            "\n",
            "           0       1.00      1.00      1.00        10\n",
            "           1       0.91      1.00      0.95        10\n",
            "           2       1.00      0.90      0.95        10\n",
            "\n",
            "    accuracy                           0.97        30\n",
            "   macro avg       0.97      0.97      0.97        30\n",
            "weighted avg       0.97      0.97      0.97        30\n",
            "\n",
            "Recall: 0.9666666666666667\n",
            "Specificity: 0.9833333333333334\n",
            "Precision: 0.9696969696969697\n",
            "F-Measure: 0.9665831244778613\n"
          ]
        }
      ]
    },
    {
      "cell_type": "code",
      "source": [
        "# @title SVM kernel=sigmoid\n",
        "\n",
        "from sklearn import svm\n",
        "\n",
        "svm_model = svm.SVC(kernel='sigmoid')\n",
        "svm_model.fit(X_train_scaled, y_train)\n",
        "\n",
        "y_pred = svm_model.predict(X_test_scaled)\n",
        "\n",
        "svm_train_acc = accuracy_score(y_train, svm_model.predict(X_train_scaled))\n",
        "svm_test_acc = accuracy_score(y_test, y_pred)\n",
        "\n",
        "print(f\"Training accuracy of SVM is : {svm_train_acc}\")\n",
        "print(f\"Test accuracy of SVM is : {svm_test_acc}\")\n",
        "\n",
        "print(confusion_matrix(y_test, y_pred))\n",
        "print(classification_report(y_test, y_pred))\n",
        "\n",
        "print(f\"Recall: {recall_score(y_test, y_pred, average='macro')}\")\n",
        "print(f\"Specificity: {specificity_score(y_test, y_pred, average='macro')}\")\n",
        "print(f\"Precision: {precision_score(y_test, y_pred, average='macro')}\")\n",
        "print(f\"F-Measure: {f1_score(y_test, y_pred, average='macro')}\")"
      ],
      "metadata": {
        "id": "YhgN_ZC_Kbsd",
        "colab": {
          "base_uri": "https://localhost:8080/"
        },
        "outputId": "d6a7271d-eb9a-43a1-bfd2-3d8cc75782b1"
      },
      "execution_count": 35,
      "outputs": [
        {
          "output_type": "stream",
          "name": "stdout",
          "text": [
            "Training accuracy of SVM is : 0.275\n",
            "Test accuracy of SVM is : 0.4\n",
            "[[10  0  0]\n",
            " [ 1  2  7]\n",
            " [ 7  3  0]]\n",
            "              precision    recall  f1-score   support\n",
            "\n",
            "           0       0.56      1.00      0.71        10\n",
            "           1       0.40      0.20      0.27        10\n",
            "           2       0.00      0.00      0.00        10\n",
            "\n",
            "    accuracy                           0.40        30\n",
            "   macro avg       0.32      0.40      0.33        30\n",
            "weighted avg       0.32      0.40      0.33        30\n",
            "\n",
            "Recall: 0.39999999999999997\n",
            "Specificity: 0.7000000000000001\n",
            "Precision: 0.31851851851851853\n",
            "F-Measure: 0.326984126984127\n"
          ]
        }
      ]
    },
    {
      "cell_type": "code",
      "source": [
        "# @title ANN\n",
        "import keras\n",
        "from keras.models import Sequential\n",
        "from keras.layers import Dense\n",
        "from keras.utils import to_categorical\n",
        "\n",
        "model = Sequential()\n",
        "model.add(Dense(4, activation='relu', input_shape=(X_train_scaled.shape[1],)))\n",
        "model.add(Dense(6, activation='relu',))\n",
        "model.add(Dense(6, activation='relu'))\n",
        "model.add(Dense(3, activation='softmax'))\n",
        "\n",
        "y_train_one_hot = to_categorical(y_train, num_classes=3)\n",
        "y_test_one_hot = to_categorical(y_test, num_classes=3)\n",
        "\n",
        "# Kompilasi model\n",
        "model.compile(optimizer='adam', loss='categorical_crossentropy', metrics=['accuracy'])\n",
        "\n",
        "# Latih model\n",
        "model.fit(X_train_scaled, y_train_one_hot, epochs=100, batch_size=32)\n",
        "\n",
        "y_pred = model.predict(X_test_scaled)\n",
        "y_pred_classes = np.argmax(y_pred, axis=1)\n",
        "y_test_classes = np.argmax(y_test_one_hot, axis=1)\n",
        "\n",
        "# Evaluasi model\n",
        "ann_test_acc = accuracy_score(y_test_classes, y_pred_classes)\n",
        "\n",
        "print(f\"Test accuracy of ANN is : {ann_test_acc}\")\n",
        "\n",
        "print(confusion_matrix(y_test_classes, y_pred_classes))\n",
        "print(classification_report(y_test_classes, y_pred_classes))\n",
        "\n",
        "print(f\"Recall: {recall_score(y_test_classes, y_pred_classes, average='macro')}\")\n",
        "print(f\"Specificity: {specificity_score(y_test_classes, y_pred_classes, average='macro')}\")\n",
        "print(f\"Precision: {precision_score(y_test_classes, y_pred_classes, average='macro')}\")\n",
        "print(f\"F-Measure: {f1_score(y_test_classes, y_pred_classes, average='macro')}\")\n"
      ],
      "metadata": {
        "id": "eUOxTyCnKh6L",
        "colab": {
          "base_uri": "https://localhost:8080/"
        },
        "outputId": "5d83fd48-291f-42eb-c5af-2c5d1c6f885d"
      },
      "execution_count": 36,
      "outputs": [
        {
          "output_type": "stream",
          "name": "stdout",
          "text": [
            "Epoch 1/100\n",
            "4/4 [==============================] - 1s 4ms/step - loss: 1.0460 - accuracy: 0.3333\n",
            "Epoch 2/100\n",
            "4/4 [==============================] - 0s 4ms/step - loss: 1.0386 - accuracy: 0.3333\n",
            "Epoch 3/100\n",
            "4/4 [==============================] - 0s 7ms/step - loss: 1.0313 - accuracy: 0.3333\n",
            "Epoch 4/100\n",
            "4/4 [==============================] - 0s 4ms/step - loss: 1.0242 - accuracy: 0.3333\n",
            "Epoch 5/100\n",
            "4/4 [==============================] - 0s 3ms/step - loss: 1.0170 - accuracy: 0.3583\n",
            "Epoch 6/100\n",
            "4/4 [==============================] - 0s 4ms/step - loss: 1.0098 - accuracy: 0.4167\n",
            "Epoch 7/100\n",
            "4/4 [==============================] - 0s 5ms/step - loss: 1.0021 - accuracy: 0.5333\n",
            "Epoch 8/100\n",
            "4/4 [==============================] - 0s 4ms/step - loss: 0.9945 - accuracy: 0.6167\n",
            "Epoch 9/100\n",
            "4/4 [==============================] - 0s 5ms/step - loss: 0.9865 - accuracy: 0.6333\n",
            "Epoch 10/100\n",
            "4/4 [==============================] - 0s 4ms/step - loss: 0.9783 - accuracy: 0.6583\n",
            "Epoch 11/100\n",
            "4/4 [==============================] - 0s 6ms/step - loss: 0.9700 - accuracy: 0.6583\n",
            "Epoch 12/100\n",
            "4/4 [==============================] - 0s 4ms/step - loss: 0.9616 - accuracy: 0.6583\n",
            "Epoch 13/100\n",
            "4/4 [==============================] - 0s 4ms/step - loss: 0.9526 - accuracy: 0.6583\n",
            "Epoch 14/100\n",
            "4/4 [==============================] - 0s 4ms/step - loss: 0.9433 - accuracy: 0.6583\n",
            "Epoch 15/100\n",
            "4/4 [==============================] - 0s 4ms/step - loss: 0.9339 - accuracy: 0.6583\n",
            "Epoch 16/100\n",
            "4/4 [==============================] - 0s 4ms/step - loss: 0.9243 - accuracy: 0.6583\n",
            "Epoch 17/100\n",
            "4/4 [==============================] - 0s 4ms/step - loss: 0.9142 - accuracy: 0.6667\n",
            "Epoch 18/100\n",
            "4/4 [==============================] - 0s 5ms/step - loss: 0.9041 - accuracy: 0.6667\n",
            "Epoch 19/100\n",
            "4/4 [==============================] - 0s 4ms/step - loss: 0.8937 - accuracy: 0.6667\n",
            "Epoch 20/100\n",
            "4/4 [==============================] - 0s 4ms/step - loss: 0.8843 - accuracy: 0.6667\n",
            "Epoch 21/100\n",
            "4/4 [==============================] - 0s 3ms/step - loss: 0.8733 - accuracy: 0.6667\n",
            "Epoch 22/100\n",
            "4/4 [==============================] - 0s 4ms/step - loss: 0.8631 - accuracy: 0.6667\n",
            "Epoch 23/100\n",
            "4/4 [==============================] - 0s 4ms/step - loss: 0.8530 - accuracy: 0.6667\n",
            "Epoch 24/100\n",
            "4/4 [==============================] - 0s 3ms/step - loss: 0.8426 - accuracy: 0.6667\n",
            "Epoch 25/100\n",
            "4/4 [==============================] - 0s 4ms/step - loss: 0.8324 - accuracy: 0.6667\n",
            "Epoch 26/100\n",
            "4/4 [==============================] - 0s 4ms/step - loss: 0.8220 - accuracy: 0.6667\n",
            "Epoch 27/100\n",
            "4/4 [==============================] - 0s 4ms/step - loss: 0.8118 - accuracy: 0.6667\n",
            "Epoch 28/100\n",
            "4/4 [==============================] - 0s 4ms/step - loss: 0.8017 - accuracy: 0.6667\n",
            "Epoch 29/100\n",
            "4/4 [==============================] - 0s 5ms/step - loss: 0.7916 - accuracy: 0.6667\n",
            "Epoch 30/100\n",
            "4/4 [==============================] - 0s 6ms/step - loss: 0.7814 - accuracy: 0.6667\n",
            "Epoch 31/100\n",
            "4/4 [==============================] - 0s 5ms/step - loss: 0.7718 - accuracy: 0.6667\n",
            "Epoch 32/100\n",
            "4/4 [==============================] - 0s 4ms/step - loss: 0.7620 - accuracy: 0.6667\n",
            "Epoch 33/100\n",
            "4/4 [==============================] - 0s 4ms/step - loss: 0.7521 - accuracy: 0.6667\n",
            "Epoch 34/100\n",
            "4/4 [==============================] - 0s 4ms/step - loss: 0.7427 - accuracy: 0.6667\n",
            "Epoch 35/100\n",
            "4/4 [==============================] - 0s 5ms/step - loss: 0.7333 - accuracy: 0.6667\n",
            "Epoch 36/100\n",
            "4/4 [==============================] - 0s 4ms/step - loss: 0.7238 - accuracy: 0.6667\n",
            "Epoch 37/100\n",
            "4/4 [==============================] - 0s 5ms/step - loss: 0.7148 - accuracy: 0.6667\n",
            "Epoch 38/100\n",
            "4/4 [==============================] - 0s 4ms/step - loss: 0.7054 - accuracy: 0.6667\n",
            "Epoch 39/100\n",
            "4/4 [==============================] - 0s 4ms/step - loss: 0.6963 - accuracy: 0.6667\n",
            "Epoch 40/100\n",
            "4/4 [==============================] - 0s 4ms/step - loss: 0.6879 - accuracy: 0.6667\n",
            "Epoch 41/100\n",
            "4/4 [==============================] - 0s 5ms/step - loss: 0.6788 - accuracy: 0.6667\n",
            "Epoch 42/100\n",
            "4/4 [==============================] - 0s 4ms/step - loss: 0.6699 - accuracy: 0.6667\n",
            "Epoch 43/100\n",
            "4/4 [==============================] - 0s 5ms/step - loss: 0.6614 - accuracy: 0.6667\n",
            "Epoch 44/100\n",
            "4/4 [==============================] - 0s 5ms/step - loss: 0.6529 - accuracy: 0.6667\n",
            "Epoch 45/100\n",
            "4/4 [==============================] - 0s 4ms/step - loss: 0.6448 - accuracy: 0.6667\n",
            "Epoch 46/100\n",
            "4/4 [==============================] - 0s 4ms/step - loss: 0.6358 - accuracy: 0.6667\n",
            "Epoch 47/100\n",
            "4/4 [==============================] - 0s 4ms/step - loss: 0.6275 - accuracy: 0.6667\n",
            "Epoch 48/100\n",
            "4/4 [==============================] - 0s 4ms/step - loss: 0.6196 - accuracy: 0.6750\n",
            "Epoch 49/100\n",
            "4/4 [==============================] - 0s 4ms/step - loss: 0.6113 - accuracy: 0.7000\n",
            "Epoch 50/100\n",
            "4/4 [==============================] - 0s 4ms/step - loss: 0.6034 - accuracy: 0.7000\n",
            "Epoch 51/100\n",
            "4/4 [==============================] - 0s 4ms/step - loss: 0.5959 - accuracy: 0.7000\n",
            "Epoch 52/100\n",
            "4/4 [==============================] - 0s 4ms/step - loss: 0.5876 - accuracy: 0.7083\n",
            "Epoch 53/100\n",
            "4/4 [==============================] - 0s 3ms/step - loss: 0.5801 - accuracy: 0.7083\n",
            "Epoch 54/100\n",
            "4/4 [==============================] - 0s 3ms/step - loss: 0.5723 - accuracy: 0.7167\n",
            "Epoch 55/100\n",
            "4/4 [==============================] - 0s 4ms/step - loss: 0.5648 - accuracy: 0.7167\n",
            "Epoch 56/100\n",
            "4/4 [==============================] - 0s 4ms/step - loss: 0.5574 - accuracy: 0.7333\n",
            "Epoch 57/100\n",
            "4/4 [==============================] - 0s 4ms/step - loss: 0.5501 - accuracy: 0.7500\n",
            "Epoch 58/100\n",
            "4/4 [==============================] - 0s 3ms/step - loss: 0.5433 - accuracy: 0.7583\n",
            "Epoch 59/100\n",
            "4/4 [==============================] - 0s 4ms/step - loss: 0.5359 - accuracy: 0.7750\n",
            "Epoch 60/100\n",
            "4/4 [==============================] - 0s 4ms/step - loss: 0.5287 - accuracy: 0.7833\n",
            "Epoch 61/100\n",
            "4/4 [==============================] - 0s 4ms/step - loss: 0.5220 - accuracy: 0.7833\n",
            "Epoch 62/100\n",
            "4/4 [==============================] - 0s 4ms/step - loss: 0.5153 - accuracy: 0.7833\n",
            "Epoch 63/100\n",
            "4/4 [==============================] - 0s 4ms/step - loss: 0.5089 - accuracy: 0.7833\n",
            "Epoch 64/100\n",
            "4/4 [==============================] - 0s 4ms/step - loss: 0.5023 - accuracy: 0.7833\n",
            "Epoch 65/100\n",
            "4/4 [==============================] - 0s 4ms/step - loss: 0.4959 - accuracy: 0.8000\n",
            "Epoch 66/100\n",
            "4/4 [==============================] - 0s 4ms/step - loss: 0.4898 - accuracy: 0.8167\n",
            "Epoch 67/100\n",
            "4/4 [==============================] - 0s 4ms/step - loss: 0.4841 - accuracy: 0.8167\n",
            "Epoch 68/100\n",
            "4/4 [==============================] - 0s 3ms/step - loss: 0.4779 - accuracy: 0.8167\n",
            "Epoch 69/100\n",
            "4/4 [==============================] - 0s 4ms/step - loss: 0.4727 - accuracy: 0.8167\n",
            "Epoch 70/100\n",
            "4/4 [==============================] - 0s 3ms/step - loss: 0.4667 - accuracy: 0.8167\n",
            "Epoch 71/100\n",
            "4/4 [==============================] - 0s 3ms/step - loss: 0.4612 - accuracy: 0.8167\n",
            "Epoch 72/100\n",
            "4/4 [==============================] - 0s 4ms/step - loss: 0.4565 - accuracy: 0.8333\n",
            "Epoch 73/100\n",
            "4/4 [==============================] - 0s 4ms/step - loss: 0.4506 - accuracy: 0.8417\n",
            "Epoch 74/100\n",
            "4/4 [==============================] - 0s 4ms/step - loss: 0.4458 - accuracy: 0.8167\n",
            "Epoch 75/100\n",
            "4/4 [==============================] - 0s 4ms/step - loss: 0.4405 - accuracy: 0.8250\n",
            "Epoch 76/100\n",
            "4/4 [==============================] - 0s 3ms/step - loss: 0.4361 - accuracy: 0.8583\n",
            "Epoch 77/100\n",
            "4/4 [==============================] - 0s 4ms/step - loss: 0.4309 - accuracy: 0.8750\n",
            "Epoch 78/100\n",
            "4/4 [==============================] - 0s 4ms/step - loss: 0.4261 - accuracy: 0.8833\n",
            "Epoch 79/100\n",
            "4/4 [==============================] - 0s 4ms/step - loss: 0.4208 - accuracy: 0.8667\n",
            "Epoch 80/100\n",
            "4/4 [==============================] - 0s 4ms/step - loss: 0.4167 - accuracy: 0.8583\n",
            "Epoch 81/100\n",
            "4/4 [==============================] - 0s 5ms/step - loss: 0.4123 - accuracy: 0.8500\n",
            "Epoch 82/100\n",
            "4/4 [==============================] - 0s 4ms/step - loss: 0.4082 - accuracy: 0.8583\n",
            "Epoch 83/100\n",
            "4/4 [==============================] - 0s 3ms/step - loss: 0.4038 - accuracy: 0.9000\n",
            "Epoch 84/100\n",
            "4/4 [==============================] - 0s 4ms/step - loss: 0.3984 - accuracy: 0.9083\n",
            "Epoch 85/100\n",
            "4/4 [==============================] - 0s 4ms/step - loss: 0.3949 - accuracy: 0.9083\n",
            "Epoch 86/100\n",
            "4/4 [==============================] - 0s 4ms/step - loss: 0.3899 - accuracy: 0.9250\n",
            "Epoch 87/100\n",
            "4/4 [==============================] - 0s 4ms/step - loss: 0.3859 - accuracy: 0.9083\n",
            "Epoch 88/100\n",
            "4/4 [==============================] - 0s 5ms/step - loss: 0.3823 - accuracy: 0.9167\n",
            "Epoch 89/100\n",
            "4/4 [==============================] - 0s 4ms/step - loss: 0.3782 - accuracy: 0.9250\n",
            "Epoch 90/100\n",
            "4/4 [==============================] - 0s 4ms/step - loss: 0.3743 - accuracy: 0.9250\n",
            "Epoch 91/100\n",
            "4/4 [==============================] - 0s 3ms/step - loss: 0.3708 - accuracy: 0.9250\n",
            "Epoch 92/100\n",
            "4/4 [==============================] - 0s 3ms/step - loss: 0.3666 - accuracy: 0.9250\n",
            "Epoch 93/100\n",
            "4/4 [==============================] - 0s 4ms/step - loss: 0.3627 - accuracy: 0.9333\n",
            "Epoch 94/100\n",
            "4/4 [==============================] - 0s 4ms/step - loss: 0.3596 - accuracy: 0.9333\n",
            "Epoch 95/100\n",
            "4/4 [==============================] - 0s 4ms/step - loss: 0.3563 - accuracy: 0.9333\n",
            "Epoch 96/100\n",
            "4/4 [==============================] - 0s 4ms/step - loss: 0.3521 - accuracy: 0.9250\n",
            "Epoch 97/100\n",
            "4/4 [==============================] - 0s 4ms/step - loss: 0.3486 - accuracy: 0.9333\n",
            "Epoch 98/100\n",
            "4/4 [==============================] - 0s 5ms/step - loss: 0.3453 - accuracy: 0.9333\n",
            "Epoch 99/100\n",
            "4/4 [==============================] - 0s 4ms/step - loss: 0.3421 - accuracy: 0.9333\n",
            "Epoch 100/100\n",
            "4/4 [==============================] - 0s 4ms/step - loss: 0.3389 - accuracy: 0.9333\n",
            "1/1 [==============================] - 0s 69ms/step\n",
            "Test accuracy of ANN is : 0.9666666666666667\n",
            "[[10  0  0]\n",
            " [ 0  9  1]\n",
            " [ 0  0 10]]\n",
            "              precision    recall  f1-score   support\n",
            "\n",
            "           0       1.00      1.00      1.00        10\n",
            "           1       1.00      0.90      0.95        10\n",
            "           2       0.91      1.00      0.95        10\n",
            "\n",
            "    accuracy                           0.97        30\n",
            "   macro avg       0.97      0.97      0.97        30\n",
            "weighted avg       0.97      0.97      0.97        30\n",
            "\n",
            "Recall: 0.9666666666666667\n",
            "Specificity: 0.9833333333333334\n",
            "Precision: 0.9696969696969697\n",
            "F-Measure: 0.9665831244778613\n"
          ]
        }
      ]
    }
  ]
}